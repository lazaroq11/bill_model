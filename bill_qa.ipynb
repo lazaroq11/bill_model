{
  "nbformat": 4,
  "nbformat_minor": 0,
  "metadata": {
    "colab": {
      "provenance": [],
      "machine_shape": "hm",
      "collapsed_sections": [
        "UnJyKTv0c-Jg",
        "ACqYUiNtEymn"
      ],
      "mount_file_id": "1fqDQn9VMIcT7vjLJVm_SJNca1XS5sXtW",
      "authorship_tag": "ABX9TyMzn5nLid0FsBjszehHEMp0",
      "include_colab_link": true
    },
    "kernelspec": {
      "name": "python3",
      "display_name": "Python 3"
    },
    "language_info": {
      "name": "python"
    },
    "widgets": {
      "application/vnd.jupyter.widget-state+json": {
        "646c680c5461427ea997595b8d91bf61": {
          "model_module": "@jupyter-widgets/controls",
          "model_name": "VBoxModel",
          "model_module_version": "1.5.0",
          "state": {
            "_dom_classes": [],
            "_model_module": "@jupyter-widgets/controls",
            "_model_module_version": "1.5.0",
            "_model_name": "VBoxModel",
            "_view_count": null,
            "_view_module": "@jupyter-widgets/controls",
            "_view_module_version": "1.5.0",
            "_view_name": "VBoxView",
            "box_style": "",
            "children": [
              "IPY_MODEL_ed0d568e56f04a8f9b78142ae0fe8de7",
              "IPY_MODEL_f2a8894ff6ef4b4da40c307ef59dea9f",
              "IPY_MODEL_f091b8ba58d947e4b7dc1df3dc76ff0e",
              "IPY_MODEL_c11bba6505a34bf882c5191152890286"
            ],
            "layout": "IPY_MODEL_34a182b3bfe040e6a186c52d39a04091"
          }
        },
        "443507750635483795bdf1f76b7955af": {
          "model_module": "@jupyter-widgets/controls",
          "model_name": "HTMLModel",
          "model_module_version": "1.5.0",
          "state": {
            "_dom_classes": [],
            "_model_module": "@jupyter-widgets/controls",
            "_model_module_version": "1.5.0",
            "_model_name": "HTMLModel",
            "_view_count": null,
            "_view_module": "@jupyter-widgets/controls",
            "_view_module_version": "1.5.0",
            "_view_name": "HTMLView",
            "description": "",
            "description_tooltip": null,
            "layout": "IPY_MODEL_c6824b735f2c4262b2ca215da63557d5",
            "placeholder": "​",
            "style": "IPY_MODEL_d933f831778d4bec81c6d4b3f5d29518",
            "value": "<center> <img\nsrc=https://huggingface.co/front/assets/huggingface_logo-noborder.svg\nalt='Hugging Face'> <br> Copy a token from <a\nhref=\"https://huggingface.co/settings/tokens\" target=\"_blank\">your Hugging Face\ntokens page</a> and paste it below. <br> Immediately click login after copying\nyour token or it might be stored in plain text in this notebook file. </center>"
          }
        },
        "2a1ab89d96f84a0ca20eb19c6df36622": {
          "model_module": "@jupyter-widgets/controls",
          "model_name": "PasswordModel",
          "model_module_version": "1.5.0",
          "state": {
            "_dom_classes": [],
            "_model_module": "@jupyter-widgets/controls",
            "_model_module_version": "1.5.0",
            "_model_name": "PasswordModel",
            "_view_count": null,
            "_view_module": "@jupyter-widgets/controls",
            "_view_module_version": "1.5.0",
            "_view_name": "PasswordView",
            "continuous_update": true,
            "description": "Token:",
            "description_tooltip": null,
            "disabled": false,
            "layout": "IPY_MODEL_925286f8f2824e32a823a2d61b109894",
            "placeholder": "​",
            "style": "IPY_MODEL_c89ab7c1e05d4a77bcbbdc708a7a7c71",
            "value": ""
          }
        },
        "d462e013e01746808227a238382a54e2": {
          "model_module": "@jupyter-widgets/controls",
          "model_name": "CheckboxModel",
          "model_module_version": "1.5.0",
          "state": {
            "_dom_classes": [],
            "_model_module": "@jupyter-widgets/controls",
            "_model_module_version": "1.5.0",
            "_model_name": "CheckboxModel",
            "_view_count": null,
            "_view_module": "@jupyter-widgets/controls",
            "_view_module_version": "1.5.0",
            "_view_name": "CheckboxView",
            "description": "Add token as git credential?",
            "description_tooltip": null,
            "disabled": false,
            "indent": true,
            "layout": "IPY_MODEL_90423db6198544a08333979baeef8101",
            "style": "IPY_MODEL_b2b0acbb0c5b4401aeb5c6de9043f330",
            "value": true
          }
        },
        "93fde6a6ee0d4784a911776249cd5d66": {
          "model_module": "@jupyter-widgets/controls",
          "model_name": "ButtonModel",
          "model_module_version": "1.5.0",
          "state": {
            "_dom_classes": [],
            "_model_module": "@jupyter-widgets/controls",
            "_model_module_version": "1.5.0",
            "_model_name": "ButtonModel",
            "_view_count": null,
            "_view_module": "@jupyter-widgets/controls",
            "_view_module_version": "1.5.0",
            "_view_name": "ButtonView",
            "button_style": "",
            "description": "Login",
            "disabled": false,
            "icon": "",
            "layout": "IPY_MODEL_9ed7e0f2b44d4d26a336ae3adc8ab3a0",
            "style": "IPY_MODEL_67cebe5b57944cc0b67d2534d29af752",
            "tooltip": ""
          }
        },
        "55924c56cb13407397ad4d76f2dffe1a": {
          "model_module": "@jupyter-widgets/controls",
          "model_name": "HTMLModel",
          "model_module_version": "1.5.0",
          "state": {
            "_dom_classes": [],
            "_model_module": "@jupyter-widgets/controls",
            "_model_module_version": "1.5.0",
            "_model_name": "HTMLModel",
            "_view_count": null,
            "_view_module": "@jupyter-widgets/controls",
            "_view_module_version": "1.5.0",
            "_view_name": "HTMLView",
            "description": "",
            "description_tooltip": null,
            "layout": "IPY_MODEL_7c4009843f374b91be1c00af2227cb89",
            "placeholder": "​",
            "style": "IPY_MODEL_b2b6ec3616484a4c9e82c4d1cea76d87",
            "value": "\n<b>Pro Tip:</b> If you don't already have one, you can create a dedicated\n'notebooks' token with 'write' access, that you can then easily reuse for all\nnotebooks. </center>"
          }
        },
        "34a182b3bfe040e6a186c52d39a04091": {
          "model_module": "@jupyter-widgets/base",
          "model_name": "LayoutModel",
          "model_module_version": "1.2.0",
          "state": {
            "_model_module": "@jupyter-widgets/base",
            "_model_module_version": "1.2.0",
            "_model_name": "LayoutModel",
            "_view_count": null,
            "_view_module": "@jupyter-widgets/base",
            "_view_module_version": "1.2.0",
            "_view_name": "LayoutView",
            "align_content": null,
            "align_items": "center",
            "align_self": null,
            "border": null,
            "bottom": null,
            "display": "flex",
            "flex": null,
            "flex_flow": "column",
            "grid_area": null,
            "grid_auto_columns": null,
            "grid_auto_flow": null,
            "grid_auto_rows": null,
            "grid_column": null,
            "grid_gap": null,
            "grid_row": null,
            "grid_template_areas": null,
            "grid_template_columns": null,
            "grid_template_rows": null,
            "height": null,
            "justify_content": null,
            "justify_items": null,
            "left": null,
            "margin": null,
            "max_height": null,
            "max_width": null,
            "min_height": null,
            "min_width": null,
            "object_fit": null,
            "object_position": null,
            "order": null,
            "overflow": null,
            "overflow_x": null,
            "overflow_y": null,
            "padding": null,
            "right": null,
            "top": null,
            "visibility": null,
            "width": "50%"
          }
        },
        "c6824b735f2c4262b2ca215da63557d5": {
          "model_module": "@jupyter-widgets/base",
          "model_name": "LayoutModel",
          "model_module_version": "1.2.0",
          "state": {
            "_model_module": "@jupyter-widgets/base",
            "_model_module_version": "1.2.0",
            "_model_name": "LayoutModel",
            "_view_count": null,
            "_view_module": "@jupyter-widgets/base",
            "_view_module_version": "1.2.0",
            "_view_name": "LayoutView",
            "align_content": null,
            "align_items": null,
            "align_self": null,
            "border": null,
            "bottom": null,
            "display": null,
            "flex": null,
            "flex_flow": null,
            "grid_area": null,
            "grid_auto_columns": null,
            "grid_auto_flow": null,
            "grid_auto_rows": null,
            "grid_column": null,
            "grid_gap": null,
            "grid_row": null,
            "grid_template_areas": null,
            "grid_template_columns": null,
            "grid_template_rows": null,
            "height": null,
            "justify_content": null,
            "justify_items": null,
            "left": null,
            "margin": null,
            "max_height": null,
            "max_width": null,
            "min_height": null,
            "min_width": null,
            "object_fit": null,
            "object_position": null,
            "order": null,
            "overflow": null,
            "overflow_x": null,
            "overflow_y": null,
            "padding": null,
            "right": null,
            "top": null,
            "visibility": null,
            "width": null
          }
        },
        "d933f831778d4bec81c6d4b3f5d29518": {
          "model_module": "@jupyter-widgets/controls",
          "model_name": "DescriptionStyleModel",
          "model_module_version": "1.5.0",
          "state": {
            "_model_module": "@jupyter-widgets/controls",
            "_model_module_version": "1.5.0",
            "_model_name": "DescriptionStyleModel",
            "_view_count": null,
            "_view_module": "@jupyter-widgets/base",
            "_view_module_version": "1.2.0",
            "_view_name": "StyleView",
            "description_width": ""
          }
        },
        "925286f8f2824e32a823a2d61b109894": {
          "model_module": "@jupyter-widgets/base",
          "model_name": "LayoutModel",
          "model_module_version": "1.2.0",
          "state": {
            "_model_module": "@jupyter-widgets/base",
            "_model_module_version": "1.2.0",
            "_model_name": "LayoutModel",
            "_view_count": null,
            "_view_module": "@jupyter-widgets/base",
            "_view_module_version": "1.2.0",
            "_view_name": "LayoutView",
            "align_content": null,
            "align_items": null,
            "align_self": null,
            "border": null,
            "bottom": null,
            "display": null,
            "flex": null,
            "flex_flow": null,
            "grid_area": null,
            "grid_auto_columns": null,
            "grid_auto_flow": null,
            "grid_auto_rows": null,
            "grid_column": null,
            "grid_gap": null,
            "grid_row": null,
            "grid_template_areas": null,
            "grid_template_columns": null,
            "grid_template_rows": null,
            "height": null,
            "justify_content": null,
            "justify_items": null,
            "left": null,
            "margin": null,
            "max_height": null,
            "max_width": null,
            "min_height": null,
            "min_width": null,
            "object_fit": null,
            "object_position": null,
            "order": null,
            "overflow": null,
            "overflow_x": null,
            "overflow_y": null,
            "padding": null,
            "right": null,
            "top": null,
            "visibility": null,
            "width": null
          }
        },
        "c89ab7c1e05d4a77bcbbdc708a7a7c71": {
          "model_module": "@jupyter-widgets/controls",
          "model_name": "DescriptionStyleModel",
          "model_module_version": "1.5.0",
          "state": {
            "_model_module": "@jupyter-widgets/controls",
            "_model_module_version": "1.5.0",
            "_model_name": "DescriptionStyleModel",
            "_view_count": null,
            "_view_module": "@jupyter-widgets/base",
            "_view_module_version": "1.2.0",
            "_view_name": "StyleView",
            "description_width": ""
          }
        },
        "90423db6198544a08333979baeef8101": {
          "model_module": "@jupyter-widgets/base",
          "model_name": "LayoutModel",
          "model_module_version": "1.2.0",
          "state": {
            "_model_module": "@jupyter-widgets/base",
            "_model_module_version": "1.2.0",
            "_model_name": "LayoutModel",
            "_view_count": null,
            "_view_module": "@jupyter-widgets/base",
            "_view_module_version": "1.2.0",
            "_view_name": "LayoutView",
            "align_content": null,
            "align_items": null,
            "align_self": null,
            "border": null,
            "bottom": null,
            "display": null,
            "flex": null,
            "flex_flow": null,
            "grid_area": null,
            "grid_auto_columns": null,
            "grid_auto_flow": null,
            "grid_auto_rows": null,
            "grid_column": null,
            "grid_gap": null,
            "grid_row": null,
            "grid_template_areas": null,
            "grid_template_columns": null,
            "grid_template_rows": null,
            "height": null,
            "justify_content": null,
            "justify_items": null,
            "left": null,
            "margin": null,
            "max_height": null,
            "max_width": null,
            "min_height": null,
            "min_width": null,
            "object_fit": null,
            "object_position": null,
            "order": null,
            "overflow": null,
            "overflow_x": null,
            "overflow_y": null,
            "padding": null,
            "right": null,
            "top": null,
            "visibility": null,
            "width": null
          }
        },
        "b2b0acbb0c5b4401aeb5c6de9043f330": {
          "model_module": "@jupyter-widgets/controls",
          "model_name": "DescriptionStyleModel",
          "model_module_version": "1.5.0",
          "state": {
            "_model_module": "@jupyter-widgets/controls",
            "_model_module_version": "1.5.0",
            "_model_name": "DescriptionStyleModel",
            "_view_count": null,
            "_view_module": "@jupyter-widgets/base",
            "_view_module_version": "1.2.0",
            "_view_name": "StyleView",
            "description_width": ""
          }
        },
        "9ed7e0f2b44d4d26a336ae3adc8ab3a0": {
          "model_module": "@jupyter-widgets/base",
          "model_name": "LayoutModel",
          "model_module_version": "1.2.0",
          "state": {
            "_model_module": "@jupyter-widgets/base",
            "_model_module_version": "1.2.0",
            "_model_name": "LayoutModel",
            "_view_count": null,
            "_view_module": "@jupyter-widgets/base",
            "_view_module_version": "1.2.0",
            "_view_name": "LayoutView",
            "align_content": null,
            "align_items": null,
            "align_self": null,
            "border": null,
            "bottom": null,
            "display": null,
            "flex": null,
            "flex_flow": null,
            "grid_area": null,
            "grid_auto_columns": null,
            "grid_auto_flow": null,
            "grid_auto_rows": null,
            "grid_column": null,
            "grid_gap": null,
            "grid_row": null,
            "grid_template_areas": null,
            "grid_template_columns": null,
            "grid_template_rows": null,
            "height": null,
            "justify_content": null,
            "justify_items": null,
            "left": null,
            "margin": null,
            "max_height": null,
            "max_width": null,
            "min_height": null,
            "min_width": null,
            "object_fit": null,
            "object_position": null,
            "order": null,
            "overflow": null,
            "overflow_x": null,
            "overflow_y": null,
            "padding": null,
            "right": null,
            "top": null,
            "visibility": null,
            "width": null
          }
        },
        "67cebe5b57944cc0b67d2534d29af752": {
          "model_module": "@jupyter-widgets/controls",
          "model_name": "ButtonStyleModel",
          "model_module_version": "1.5.0",
          "state": {
            "_model_module": "@jupyter-widgets/controls",
            "_model_module_version": "1.5.0",
            "_model_name": "ButtonStyleModel",
            "_view_count": null,
            "_view_module": "@jupyter-widgets/base",
            "_view_module_version": "1.2.0",
            "_view_name": "StyleView",
            "button_color": null,
            "font_weight": ""
          }
        },
        "7c4009843f374b91be1c00af2227cb89": {
          "model_module": "@jupyter-widgets/base",
          "model_name": "LayoutModel",
          "model_module_version": "1.2.0",
          "state": {
            "_model_module": "@jupyter-widgets/base",
            "_model_module_version": "1.2.0",
            "_model_name": "LayoutModel",
            "_view_count": null,
            "_view_module": "@jupyter-widgets/base",
            "_view_module_version": "1.2.0",
            "_view_name": "LayoutView",
            "align_content": null,
            "align_items": null,
            "align_self": null,
            "border": null,
            "bottom": null,
            "display": null,
            "flex": null,
            "flex_flow": null,
            "grid_area": null,
            "grid_auto_columns": null,
            "grid_auto_flow": null,
            "grid_auto_rows": null,
            "grid_column": null,
            "grid_gap": null,
            "grid_row": null,
            "grid_template_areas": null,
            "grid_template_columns": null,
            "grid_template_rows": null,
            "height": null,
            "justify_content": null,
            "justify_items": null,
            "left": null,
            "margin": null,
            "max_height": null,
            "max_width": null,
            "min_height": null,
            "min_width": null,
            "object_fit": null,
            "object_position": null,
            "order": null,
            "overflow": null,
            "overflow_x": null,
            "overflow_y": null,
            "padding": null,
            "right": null,
            "top": null,
            "visibility": null,
            "width": null
          }
        },
        "b2b6ec3616484a4c9e82c4d1cea76d87": {
          "model_module": "@jupyter-widgets/controls",
          "model_name": "DescriptionStyleModel",
          "model_module_version": "1.5.0",
          "state": {
            "_model_module": "@jupyter-widgets/controls",
            "_model_module_version": "1.5.0",
            "_model_name": "DescriptionStyleModel",
            "_view_count": null,
            "_view_module": "@jupyter-widgets/base",
            "_view_module_version": "1.2.0",
            "_view_name": "StyleView",
            "description_width": ""
          }
        },
        "f69ba28d793b4da69360e0789fc2cf1b": {
          "model_module": "@jupyter-widgets/controls",
          "model_name": "LabelModel",
          "model_module_version": "1.5.0",
          "state": {
            "_dom_classes": [],
            "_model_module": "@jupyter-widgets/controls",
            "_model_module_version": "1.5.0",
            "_model_name": "LabelModel",
            "_view_count": null,
            "_view_module": "@jupyter-widgets/controls",
            "_view_module_version": "1.5.0",
            "_view_name": "LabelView",
            "description": "",
            "description_tooltip": null,
            "layout": "IPY_MODEL_f18e8fbe1df4475eb5ddd9aef0765ffe",
            "placeholder": "​",
            "style": "IPY_MODEL_8a93a6c2a9e543638d9a10f869f633a6",
            "value": "Connecting..."
          }
        },
        "f18e8fbe1df4475eb5ddd9aef0765ffe": {
          "model_module": "@jupyter-widgets/base",
          "model_name": "LayoutModel",
          "model_module_version": "1.2.0",
          "state": {
            "_model_module": "@jupyter-widgets/base",
            "_model_module_version": "1.2.0",
            "_model_name": "LayoutModel",
            "_view_count": null,
            "_view_module": "@jupyter-widgets/base",
            "_view_module_version": "1.2.0",
            "_view_name": "LayoutView",
            "align_content": null,
            "align_items": null,
            "align_self": null,
            "border": null,
            "bottom": null,
            "display": null,
            "flex": null,
            "flex_flow": null,
            "grid_area": null,
            "grid_auto_columns": null,
            "grid_auto_flow": null,
            "grid_auto_rows": null,
            "grid_column": null,
            "grid_gap": null,
            "grid_row": null,
            "grid_template_areas": null,
            "grid_template_columns": null,
            "grid_template_rows": null,
            "height": null,
            "justify_content": null,
            "justify_items": null,
            "left": null,
            "margin": null,
            "max_height": null,
            "max_width": null,
            "min_height": null,
            "min_width": null,
            "object_fit": null,
            "object_position": null,
            "order": null,
            "overflow": null,
            "overflow_x": null,
            "overflow_y": null,
            "padding": null,
            "right": null,
            "top": null,
            "visibility": null,
            "width": null
          }
        },
        "8a93a6c2a9e543638d9a10f869f633a6": {
          "model_module": "@jupyter-widgets/controls",
          "model_name": "DescriptionStyleModel",
          "model_module_version": "1.5.0",
          "state": {
            "_model_module": "@jupyter-widgets/controls",
            "_model_module_version": "1.5.0",
            "_model_name": "DescriptionStyleModel",
            "_view_count": null,
            "_view_module": "@jupyter-widgets/base",
            "_view_module_version": "1.2.0",
            "_view_name": "StyleView",
            "description_width": ""
          }
        },
        "ed0d568e56f04a8f9b78142ae0fe8de7": {
          "model_module": "@jupyter-widgets/controls",
          "model_name": "LabelModel",
          "model_module_version": "1.5.0",
          "state": {
            "_dom_classes": [],
            "_model_module": "@jupyter-widgets/controls",
            "_model_module_version": "1.5.0",
            "_model_name": "LabelModel",
            "_view_count": null,
            "_view_module": "@jupyter-widgets/controls",
            "_view_module_version": "1.5.0",
            "_view_name": "LabelView",
            "description": "",
            "description_tooltip": null,
            "layout": "IPY_MODEL_e773b80b394d4a4081fcd2dc60a14f2d",
            "placeholder": "​",
            "style": "IPY_MODEL_04131dfbed6048cfaae4416fdcaecce3",
            "value": "Token is valid (permission: read)."
          }
        },
        "f2a8894ff6ef4b4da40c307ef59dea9f": {
          "model_module": "@jupyter-widgets/controls",
          "model_name": "LabelModel",
          "model_module_version": "1.5.0",
          "state": {
            "_dom_classes": [],
            "_model_module": "@jupyter-widgets/controls",
            "_model_module_version": "1.5.0",
            "_model_name": "LabelModel",
            "_view_count": null,
            "_view_module": "@jupyter-widgets/controls",
            "_view_module_version": "1.5.0",
            "_view_name": "LabelView",
            "description": "",
            "description_tooltip": null,
            "layout": "IPY_MODEL_d9dc8b4e0120481ab93584d846237ae5",
            "placeholder": "​",
            "style": "IPY_MODEL_abc6ee9726a84879a95a1d2ddc3c80b6",
            "value": "Your token has been saved in your configured git credential helpers (store)."
          }
        },
        "f091b8ba58d947e4b7dc1df3dc76ff0e": {
          "model_module": "@jupyter-widgets/controls",
          "model_name": "LabelModel",
          "model_module_version": "1.5.0",
          "state": {
            "_dom_classes": [],
            "_model_module": "@jupyter-widgets/controls",
            "_model_module_version": "1.5.0",
            "_model_name": "LabelModel",
            "_view_count": null,
            "_view_module": "@jupyter-widgets/controls",
            "_view_module_version": "1.5.0",
            "_view_name": "LabelView",
            "description": "",
            "description_tooltip": null,
            "layout": "IPY_MODEL_7058860b4b2c446984c1467faca04a44",
            "placeholder": "​",
            "style": "IPY_MODEL_46b743ddefcc4dfa81719c839695270b",
            "value": "Your token has been saved to /root/.cache/huggingface/token"
          }
        },
        "c11bba6505a34bf882c5191152890286": {
          "model_module": "@jupyter-widgets/controls",
          "model_name": "LabelModel",
          "model_module_version": "1.5.0",
          "state": {
            "_dom_classes": [],
            "_model_module": "@jupyter-widgets/controls",
            "_model_module_version": "1.5.0",
            "_model_name": "LabelModel",
            "_view_count": null,
            "_view_module": "@jupyter-widgets/controls",
            "_view_module_version": "1.5.0",
            "_view_name": "LabelView",
            "description": "",
            "description_tooltip": null,
            "layout": "IPY_MODEL_fa2afca0c76c4ca79f78c99f45e24c71",
            "placeholder": "​",
            "style": "IPY_MODEL_d183373f3f2f4a5099ceb9946c42949d",
            "value": "Login successful"
          }
        },
        "e773b80b394d4a4081fcd2dc60a14f2d": {
          "model_module": "@jupyter-widgets/base",
          "model_name": "LayoutModel",
          "model_module_version": "1.2.0",
          "state": {
            "_model_module": "@jupyter-widgets/base",
            "_model_module_version": "1.2.0",
            "_model_name": "LayoutModel",
            "_view_count": null,
            "_view_module": "@jupyter-widgets/base",
            "_view_module_version": "1.2.0",
            "_view_name": "LayoutView",
            "align_content": null,
            "align_items": null,
            "align_self": null,
            "border": null,
            "bottom": null,
            "display": null,
            "flex": null,
            "flex_flow": null,
            "grid_area": null,
            "grid_auto_columns": null,
            "grid_auto_flow": null,
            "grid_auto_rows": null,
            "grid_column": null,
            "grid_gap": null,
            "grid_row": null,
            "grid_template_areas": null,
            "grid_template_columns": null,
            "grid_template_rows": null,
            "height": null,
            "justify_content": null,
            "justify_items": null,
            "left": null,
            "margin": null,
            "max_height": null,
            "max_width": null,
            "min_height": null,
            "min_width": null,
            "object_fit": null,
            "object_position": null,
            "order": null,
            "overflow": null,
            "overflow_x": null,
            "overflow_y": null,
            "padding": null,
            "right": null,
            "top": null,
            "visibility": null,
            "width": null
          }
        },
        "04131dfbed6048cfaae4416fdcaecce3": {
          "model_module": "@jupyter-widgets/controls",
          "model_name": "DescriptionStyleModel",
          "model_module_version": "1.5.0",
          "state": {
            "_model_module": "@jupyter-widgets/controls",
            "_model_module_version": "1.5.0",
            "_model_name": "DescriptionStyleModel",
            "_view_count": null,
            "_view_module": "@jupyter-widgets/base",
            "_view_module_version": "1.2.0",
            "_view_name": "StyleView",
            "description_width": ""
          }
        },
        "d9dc8b4e0120481ab93584d846237ae5": {
          "model_module": "@jupyter-widgets/base",
          "model_name": "LayoutModel",
          "model_module_version": "1.2.0",
          "state": {
            "_model_module": "@jupyter-widgets/base",
            "_model_module_version": "1.2.0",
            "_model_name": "LayoutModel",
            "_view_count": null,
            "_view_module": "@jupyter-widgets/base",
            "_view_module_version": "1.2.0",
            "_view_name": "LayoutView",
            "align_content": null,
            "align_items": null,
            "align_self": null,
            "border": null,
            "bottom": null,
            "display": null,
            "flex": null,
            "flex_flow": null,
            "grid_area": null,
            "grid_auto_columns": null,
            "grid_auto_flow": null,
            "grid_auto_rows": null,
            "grid_column": null,
            "grid_gap": null,
            "grid_row": null,
            "grid_template_areas": null,
            "grid_template_columns": null,
            "grid_template_rows": null,
            "height": null,
            "justify_content": null,
            "justify_items": null,
            "left": null,
            "margin": null,
            "max_height": null,
            "max_width": null,
            "min_height": null,
            "min_width": null,
            "object_fit": null,
            "object_position": null,
            "order": null,
            "overflow": null,
            "overflow_x": null,
            "overflow_y": null,
            "padding": null,
            "right": null,
            "top": null,
            "visibility": null,
            "width": null
          }
        },
        "abc6ee9726a84879a95a1d2ddc3c80b6": {
          "model_module": "@jupyter-widgets/controls",
          "model_name": "DescriptionStyleModel",
          "model_module_version": "1.5.0",
          "state": {
            "_model_module": "@jupyter-widgets/controls",
            "_model_module_version": "1.5.0",
            "_model_name": "DescriptionStyleModel",
            "_view_count": null,
            "_view_module": "@jupyter-widgets/base",
            "_view_module_version": "1.2.0",
            "_view_name": "StyleView",
            "description_width": ""
          }
        },
        "7058860b4b2c446984c1467faca04a44": {
          "model_module": "@jupyter-widgets/base",
          "model_name": "LayoutModel",
          "model_module_version": "1.2.0",
          "state": {
            "_model_module": "@jupyter-widgets/base",
            "_model_module_version": "1.2.0",
            "_model_name": "LayoutModel",
            "_view_count": null,
            "_view_module": "@jupyter-widgets/base",
            "_view_module_version": "1.2.0",
            "_view_name": "LayoutView",
            "align_content": null,
            "align_items": null,
            "align_self": null,
            "border": null,
            "bottom": null,
            "display": null,
            "flex": null,
            "flex_flow": null,
            "grid_area": null,
            "grid_auto_columns": null,
            "grid_auto_flow": null,
            "grid_auto_rows": null,
            "grid_column": null,
            "grid_gap": null,
            "grid_row": null,
            "grid_template_areas": null,
            "grid_template_columns": null,
            "grid_template_rows": null,
            "height": null,
            "justify_content": null,
            "justify_items": null,
            "left": null,
            "margin": null,
            "max_height": null,
            "max_width": null,
            "min_height": null,
            "min_width": null,
            "object_fit": null,
            "object_position": null,
            "order": null,
            "overflow": null,
            "overflow_x": null,
            "overflow_y": null,
            "padding": null,
            "right": null,
            "top": null,
            "visibility": null,
            "width": null
          }
        },
        "46b743ddefcc4dfa81719c839695270b": {
          "model_module": "@jupyter-widgets/controls",
          "model_name": "DescriptionStyleModel",
          "model_module_version": "1.5.0",
          "state": {
            "_model_module": "@jupyter-widgets/controls",
            "_model_module_version": "1.5.0",
            "_model_name": "DescriptionStyleModel",
            "_view_count": null,
            "_view_module": "@jupyter-widgets/base",
            "_view_module_version": "1.2.0",
            "_view_name": "StyleView",
            "description_width": ""
          }
        },
        "fa2afca0c76c4ca79f78c99f45e24c71": {
          "model_module": "@jupyter-widgets/base",
          "model_name": "LayoutModel",
          "model_module_version": "1.2.0",
          "state": {
            "_model_module": "@jupyter-widgets/base",
            "_model_module_version": "1.2.0",
            "_model_name": "LayoutModel",
            "_view_count": null,
            "_view_module": "@jupyter-widgets/base",
            "_view_module_version": "1.2.0",
            "_view_name": "LayoutView",
            "align_content": null,
            "align_items": null,
            "align_self": null,
            "border": null,
            "bottom": null,
            "display": null,
            "flex": null,
            "flex_flow": null,
            "grid_area": null,
            "grid_auto_columns": null,
            "grid_auto_flow": null,
            "grid_auto_rows": null,
            "grid_column": null,
            "grid_gap": null,
            "grid_row": null,
            "grid_template_areas": null,
            "grid_template_columns": null,
            "grid_template_rows": null,
            "height": null,
            "justify_content": null,
            "justify_items": null,
            "left": null,
            "margin": null,
            "max_height": null,
            "max_width": null,
            "min_height": null,
            "min_width": null,
            "object_fit": null,
            "object_position": null,
            "order": null,
            "overflow": null,
            "overflow_x": null,
            "overflow_y": null,
            "padding": null,
            "right": null,
            "top": null,
            "visibility": null,
            "width": null
          }
        },
        "d183373f3f2f4a5099ceb9946c42949d": {
          "model_module": "@jupyter-widgets/controls",
          "model_name": "DescriptionStyleModel",
          "model_module_version": "1.5.0",
          "state": {
            "_model_module": "@jupyter-widgets/controls",
            "_model_module_version": "1.5.0",
            "_model_name": "DescriptionStyleModel",
            "_view_count": null,
            "_view_module": "@jupyter-widgets/base",
            "_view_module_version": "1.2.0",
            "_view_name": "StyleView",
            "description_width": ""
          }
        }
      }
    }
  },
  "cells": [
    {
      "cell_type": "markdown",
      "metadata": {
        "id": "view-in-github",
        "colab_type": "text"
      },
      "source": [
        "<a href=\"https://colab.research.google.com/github/lazaroq11/bill_model/blob/master/bill_qa.ipynb\" target=\"_parent\"><img src=\"https://colab.research.google.com/assets/colab-badge.svg\" alt=\"Open In Colab\"/></a>"
      ]
    },
    {
      "cell_type": "markdown",
      "source": [
        "# ***Dependências***"
      ],
      "metadata": {
        "id": "0Ox4nvpLpfPF"
      }
    },
    {
      "cell_type": "code",
      "source": [
        "!pip install --upgrade pip"
      ],
      "metadata": {
        "id": "0Mf7UOmDJOap",
        "colab": {
          "base_uri": "https://localhost:8080/"
        },
        "outputId": "36b2d561-d7ce-43a6-dc5c-09b1b2cad9ac"
      },
      "execution_count": 1,
      "outputs": [
        {
          "output_type": "stream",
          "name": "stdout",
          "text": [
            "Requirement already satisfied: pip in /usr/local/lib/python3.10/dist-packages (23.1.2)\n",
            "Collecting pip\n",
            "  Downloading pip-23.3.1-py3-none-any.whl (2.1 MB)\n",
            "\u001b[2K     \u001b[90m━━━━━━━━━━━━━━━━━━━━━━━━━━━━━━━━━━━━━━━━\u001b[0m \u001b[32m2.1/2.1 MB\u001b[0m \u001b[31m1.9 MB/s\u001b[0m eta \u001b[36m0:00:00\u001b[0m\n",
            "\u001b[?25hInstalling collected packages: pip\n",
            "  Attempting uninstall: pip\n",
            "    Found existing installation: pip 23.1.2\n",
            "    Uninstalling pip-23.1.2:\n",
            "      Successfully uninstalled pip-23.1.2\n",
            "Successfully installed pip-23.3.1\n"
          ]
        }
      ]
    },
    {
      "cell_type": "code",
      "source": [
        "!pip install transformers\n",
        "!pip install -U scikit-learn\n",
        "!pip install pandas\n"
      ],
      "metadata": {
        "colab": {
          "base_uri": "https://localhost:8080/"
        },
        "id": "Q3yJigg1Hq_f",
        "outputId": "9e3c86ce-1b0f-4f2f-bd45-c7ca9f289e73"
      },
      "execution_count": 2,
      "outputs": [
        {
          "output_type": "stream",
          "name": "stdout",
          "text": [
            "Collecting transformers\n",
            "  Downloading transformers-4.34.1-py3-none-any.whl.metadata (121 kB)\n",
            "\u001b[2K     \u001b[90m━━━━━━━━━━━━━━━━━━━━━━━━━━━━━━━━━━━━━━━━\u001b[0m \u001b[32m121.5/121.5 kB\u001b[0m \u001b[31m448.7 kB/s\u001b[0m eta \u001b[36m0:00:00\u001b[0m\n",
            "\u001b[?25hRequirement already satisfied: filelock in /usr/local/lib/python3.10/dist-packages (from transformers) (3.12.4)\n",
            "Collecting huggingface-hub<1.0,>=0.16.4 (from transformers)\n",
            "  Downloading huggingface_hub-0.18.0-py3-none-any.whl.metadata (13 kB)\n",
            "Requirement already satisfied: numpy>=1.17 in /usr/local/lib/python3.10/dist-packages (from transformers) (1.23.5)\n",
            "Requirement already satisfied: packaging>=20.0 in /usr/local/lib/python3.10/dist-packages (from transformers) (23.2)\n",
            "Requirement already satisfied: pyyaml>=5.1 in /usr/local/lib/python3.10/dist-packages (from transformers) (6.0.1)\n",
            "Requirement already satisfied: regex!=2019.12.17 in /usr/local/lib/python3.10/dist-packages (from transformers) (2023.6.3)\n",
            "Requirement already satisfied: requests in /usr/local/lib/python3.10/dist-packages (from transformers) (2.31.0)\n",
            "Collecting tokenizers<0.15,>=0.14 (from transformers)\n",
            "  Downloading tokenizers-0.14.1-cp310-cp310-manylinux_2_17_x86_64.manylinux2014_x86_64.whl.metadata (6.7 kB)\n",
            "Collecting safetensors>=0.3.1 (from transformers)\n",
            "  Downloading safetensors-0.4.0-cp310-cp310-manylinux_2_17_x86_64.manylinux2014_x86_64.whl.metadata (3.8 kB)\n",
            "Requirement already satisfied: tqdm>=4.27 in /usr/local/lib/python3.10/dist-packages (from transformers) (4.66.1)\n",
            "Requirement already satisfied: fsspec>=2023.5.0 in /usr/local/lib/python3.10/dist-packages (from huggingface-hub<1.0,>=0.16.4->transformers) (2023.6.0)\n",
            "Requirement already satisfied: typing-extensions>=3.7.4.3 in /usr/local/lib/python3.10/dist-packages (from huggingface-hub<1.0,>=0.16.4->transformers) (4.5.0)\n",
            "Collecting huggingface-hub<1.0,>=0.16.4 (from transformers)\n",
            "  Downloading huggingface_hub-0.17.3-py3-none-any.whl.metadata (13 kB)\n",
            "Requirement already satisfied: charset-normalizer<4,>=2 in /usr/local/lib/python3.10/dist-packages (from requests->transformers) (3.3.0)\n",
            "Requirement already satisfied: idna<4,>=2.5 in /usr/local/lib/python3.10/dist-packages (from requests->transformers) (3.4)\n",
            "Requirement already satisfied: urllib3<3,>=1.21.1 in /usr/local/lib/python3.10/dist-packages (from requests->transformers) (2.0.7)\n",
            "Requirement already satisfied: certifi>=2017.4.17 in /usr/local/lib/python3.10/dist-packages (from requests->transformers) (2023.7.22)\n",
            "Downloading transformers-4.34.1-py3-none-any.whl (7.7 MB)\n",
            "\u001b[2K   \u001b[90m━━━━━━━━━━━━━━━━━━━━━━━━━━━━━━━━━━━━━━━━\u001b[0m \u001b[32m7.7/7.7 MB\u001b[0m \u001b[31m2.7 MB/s\u001b[0m eta \u001b[36m0:00:00\u001b[0m\n",
            "\u001b[?25hDownloading safetensors-0.4.0-cp310-cp310-manylinux_2_17_x86_64.manylinux2014_x86_64.whl (1.3 MB)\n",
            "\u001b[2K   \u001b[90m━━━━━━━━━━━━━━━━━━━━━━━━━━━━━━━━━━━━━━━━\u001b[0m \u001b[32m1.3/1.3 MB\u001b[0m \u001b[31m4.7 MB/s\u001b[0m eta \u001b[36m0:00:00\u001b[0m\n",
            "\u001b[?25hDownloading tokenizers-0.14.1-cp310-cp310-manylinux_2_17_x86_64.manylinux2014_x86_64.whl (3.8 MB)\n",
            "\u001b[2K   \u001b[90m━━━━━━━━━━━━━━━━━━━━━━━━━━━━━━━━━━━━━━━━\u001b[0m \u001b[32m3.8/3.8 MB\u001b[0m \u001b[31m5.1 MB/s\u001b[0m eta \u001b[36m0:00:00\u001b[0m\n",
            "\u001b[?25hDownloading huggingface_hub-0.17.3-py3-none-any.whl (295 kB)\n",
            "\u001b[2K   \u001b[90m━━━━━━━━━━━━━━━━━━━━━━━━━━━━━━━━━━━━━━━━\u001b[0m \u001b[32m295.0/295.0 kB\u001b[0m \u001b[31m5.0 MB/s\u001b[0m eta \u001b[36m0:00:00\u001b[0m\n",
            "\u001b[?25hInstalling collected packages: safetensors, huggingface-hub, tokenizers, transformers\n",
            "Successfully installed huggingface-hub-0.17.3 safetensors-0.4.0 tokenizers-0.14.1 transformers-4.34.1\n",
            "\u001b[33mWARNING: Running pip as the 'root' user can result in broken permissions and conflicting behaviour with the system package manager. It is recommended to use a virtual environment instead: https://pip.pypa.io/warnings/venv\u001b[0m\u001b[33m\n",
            "\u001b[0mRequirement already satisfied: scikit-learn in /usr/local/lib/python3.10/dist-packages (1.2.2)\n",
            "Collecting scikit-learn\n",
            "  Downloading scikit_learn-1.3.2-cp310-cp310-manylinux_2_17_x86_64.manylinux2014_x86_64.whl.metadata (11 kB)\n",
            "Requirement already satisfied: numpy<2.0,>=1.17.3 in /usr/local/lib/python3.10/dist-packages (from scikit-learn) (1.23.5)\n",
            "Requirement already satisfied: scipy>=1.5.0 in /usr/local/lib/python3.10/dist-packages (from scikit-learn) (1.11.3)\n",
            "Requirement already satisfied: joblib>=1.1.1 in /usr/local/lib/python3.10/dist-packages (from scikit-learn) (1.3.2)\n",
            "Requirement already satisfied: threadpoolctl>=2.0.0 in /usr/local/lib/python3.10/dist-packages (from scikit-learn) (3.2.0)\n",
            "Downloading scikit_learn-1.3.2-cp310-cp310-manylinux_2_17_x86_64.manylinux2014_x86_64.whl (10.8 MB)\n",
            "\u001b[2K   \u001b[90m━━━━━━━━━━━━━━━━━━━━━━━━━━━━━━━━━━━━━━━━\u001b[0m \u001b[32m10.8/10.8 MB\u001b[0m \u001b[31m18.4 MB/s\u001b[0m eta \u001b[36m0:00:00\u001b[0m\n",
            "\u001b[?25hInstalling collected packages: scikit-learn\n",
            "  Attempting uninstall: scikit-learn\n",
            "    Found existing installation: scikit-learn 1.2.2\n",
            "    Uninstalling scikit-learn-1.2.2:\n",
            "      Successfully uninstalled scikit-learn-1.2.2\n",
            "Successfully installed scikit-learn-1.3.2\n",
            "\u001b[33mWARNING: Running pip as the 'root' user can result in broken permissions and conflicting behaviour with the system package manager. It is recommended to use a virtual environment instead: https://pip.pypa.io/warnings/venv\u001b[0m\u001b[33m\n",
            "\u001b[0mRequirement already satisfied: pandas in /usr/local/lib/python3.10/dist-packages (1.5.3)\n",
            "Requirement already satisfied: python-dateutil>=2.8.1 in /usr/local/lib/python3.10/dist-packages (from pandas) (2.8.2)\n",
            "Requirement already satisfied: pytz>=2020.1 in /usr/local/lib/python3.10/dist-packages (from pandas) (2023.3.post1)\n",
            "Requirement already satisfied: numpy>=1.21.0 in /usr/local/lib/python3.10/dist-packages (from pandas) (1.23.5)\n",
            "Requirement already satisfied: six>=1.5 in /usr/local/lib/python3.10/dist-packages (from python-dateutil>=2.8.1->pandas) (1.16.0)\n",
            "\u001b[33mWARNING: Running pip as the 'root' user can result in broken permissions and conflicting behaviour with the system package manager. It is recommended to use a virtual environment instead: https://pip.pypa.io/warnings/venv\u001b[0m\u001b[33m\n",
            "\u001b[0m"
          ]
        }
      ]
    },
    {
      "cell_type": "code",
      "source": [
        "!pip install rouge-score"
      ],
      "metadata": {
        "colab": {
          "base_uri": "https://localhost:8080/"
        },
        "id": "ChYsWaj4dfRX",
        "outputId": "236b659d-df76-48da-a867-98bb055776d4"
      },
      "execution_count": 3,
      "outputs": [
        {
          "output_type": "stream",
          "name": "stdout",
          "text": [
            "Collecting rouge-score\n",
            "  Downloading rouge_score-0.1.2.tar.gz (17 kB)\n",
            "  Preparing metadata (setup.py) ... \u001b[?25l\u001b[?25hdone\n",
            "Requirement already satisfied: absl-py in /usr/local/lib/python3.10/dist-packages (from rouge-score) (1.4.0)\n",
            "Requirement already satisfied: nltk in /usr/local/lib/python3.10/dist-packages (from rouge-score) (3.8.1)\n",
            "Requirement already satisfied: numpy in /usr/local/lib/python3.10/dist-packages (from rouge-score) (1.23.5)\n",
            "Requirement already satisfied: six>=1.14.0 in /usr/local/lib/python3.10/dist-packages (from rouge-score) (1.16.0)\n",
            "Requirement already satisfied: click in /usr/local/lib/python3.10/dist-packages (from nltk->rouge-score) (8.1.7)\n",
            "Requirement already satisfied: joblib in /usr/local/lib/python3.10/dist-packages (from nltk->rouge-score) (1.3.2)\n",
            "Requirement already satisfied: regex>=2021.8.3 in /usr/local/lib/python3.10/dist-packages (from nltk->rouge-score) (2023.6.3)\n",
            "Requirement already satisfied: tqdm in /usr/local/lib/python3.10/dist-packages (from nltk->rouge-score) (4.66.1)\n",
            "Building wheels for collected packages: rouge-score\n",
            "  Building wheel for rouge-score (setup.py) ... \u001b[?25l\u001b[?25hdone\n",
            "  Created wheel for rouge-score: filename=rouge_score-0.1.2-py3-none-any.whl size=24932 sha256=29800215b5b6aa7e1a2b3226664002697c319e7e61abcb719570c0b3224ab64d\n",
            "  Stored in directory: /root/.cache/pip/wheels/5f/dd/89/461065a73be61a532ff8599a28e9beef17985c9e9c31e541b4\n",
            "Successfully built rouge-score\n",
            "Installing collected packages: rouge-score\n",
            "Successfully installed rouge-score-0.1.2\n",
            "\u001b[33mWARNING: Running pip as the 'root' user can result in broken permissions and conflicting behaviour with the system package manager. It is recommended to use a virtual environment instead: https://pip.pypa.io/warnings/venv\u001b[0m\u001b[33m\n",
            "\u001b[0m"
          ]
        }
      ]
    },
    {
      "cell_type": "code",
      "source": [
        "!pip install transformers[torch]\n",
        "!pip install accelerate -U"
      ],
      "metadata": {
        "colab": {
          "base_uri": "https://localhost:8080/"
        },
        "id": "PR8OTL7sLBtT",
        "outputId": "f81287c9-a8ce-47b0-ea4d-fc79055e4ec6"
      },
      "execution_count": 4,
      "outputs": [
        {
          "output_type": "stream",
          "name": "stdout",
          "text": [
            "Requirement already satisfied: transformers[torch] in /usr/local/lib/python3.10/dist-packages (4.34.1)\n",
            "Requirement already satisfied: filelock in /usr/local/lib/python3.10/dist-packages (from transformers[torch]) (3.12.4)\n",
            "Requirement already satisfied: huggingface-hub<1.0,>=0.16.4 in /usr/local/lib/python3.10/dist-packages (from transformers[torch]) (0.17.3)\n",
            "Requirement already satisfied: numpy>=1.17 in /usr/local/lib/python3.10/dist-packages (from transformers[torch]) (1.23.5)\n",
            "Requirement already satisfied: packaging>=20.0 in /usr/local/lib/python3.10/dist-packages (from transformers[torch]) (23.2)\n",
            "Requirement already satisfied: pyyaml>=5.1 in /usr/local/lib/python3.10/dist-packages (from transformers[torch]) (6.0.1)\n",
            "Requirement already satisfied: regex!=2019.12.17 in /usr/local/lib/python3.10/dist-packages (from transformers[torch]) (2023.6.3)\n",
            "Requirement already satisfied: requests in /usr/local/lib/python3.10/dist-packages (from transformers[torch]) (2.31.0)\n",
            "Requirement already satisfied: tokenizers<0.15,>=0.14 in /usr/local/lib/python3.10/dist-packages (from transformers[torch]) (0.14.1)\n",
            "Requirement already satisfied: safetensors>=0.3.1 in /usr/local/lib/python3.10/dist-packages (from transformers[torch]) (0.4.0)\n",
            "Requirement already satisfied: tqdm>=4.27 in /usr/local/lib/python3.10/dist-packages (from transformers[torch]) (4.66.1)\n",
            "Requirement already satisfied: torch!=1.12.0,>=1.10 in /usr/local/lib/python3.10/dist-packages (from transformers[torch]) (2.1.0+cu118)\n",
            "Collecting accelerate>=0.20.3 (from transformers[torch])\n",
            "  Downloading accelerate-0.23.0-py3-none-any.whl.metadata (18 kB)\n",
            "Requirement already satisfied: psutil in /usr/local/lib/python3.10/dist-packages (from accelerate>=0.20.3->transformers[torch]) (5.9.5)\n",
            "Requirement already satisfied: fsspec in /usr/local/lib/python3.10/dist-packages (from huggingface-hub<1.0,>=0.16.4->transformers[torch]) (2023.6.0)\n",
            "Requirement already satisfied: typing-extensions>=3.7.4.3 in /usr/local/lib/python3.10/dist-packages (from huggingface-hub<1.0,>=0.16.4->transformers[torch]) (4.5.0)\n",
            "Requirement already satisfied: sympy in /usr/local/lib/python3.10/dist-packages (from torch!=1.12.0,>=1.10->transformers[torch]) (1.12)\n",
            "Requirement already satisfied: networkx in /usr/local/lib/python3.10/dist-packages (from torch!=1.12.0,>=1.10->transformers[torch]) (3.2)\n",
            "Requirement already satisfied: jinja2 in /usr/local/lib/python3.10/dist-packages (from torch!=1.12.0,>=1.10->transformers[torch]) (3.1.2)\n",
            "Requirement already satisfied: triton==2.1.0 in /usr/local/lib/python3.10/dist-packages (from torch!=1.12.0,>=1.10->transformers[torch]) (2.1.0)\n",
            "Requirement already satisfied: charset-normalizer<4,>=2 in /usr/local/lib/python3.10/dist-packages (from requests->transformers[torch]) (3.3.0)\n",
            "Requirement already satisfied: idna<4,>=2.5 in /usr/local/lib/python3.10/dist-packages (from requests->transformers[torch]) (3.4)\n",
            "Requirement already satisfied: urllib3<3,>=1.21.1 in /usr/local/lib/python3.10/dist-packages (from requests->transformers[torch]) (2.0.7)\n",
            "Requirement already satisfied: certifi>=2017.4.17 in /usr/local/lib/python3.10/dist-packages (from requests->transformers[torch]) (2023.7.22)\n",
            "Requirement already satisfied: MarkupSafe>=2.0 in /usr/local/lib/python3.10/dist-packages (from jinja2->torch!=1.12.0,>=1.10->transformers[torch]) (2.1.3)\n",
            "Requirement already satisfied: mpmath>=0.19 in /usr/local/lib/python3.10/dist-packages (from sympy->torch!=1.12.0,>=1.10->transformers[torch]) (1.3.0)\n",
            "Downloading accelerate-0.23.0-py3-none-any.whl (258 kB)\n",
            "\u001b[2K   \u001b[90m━━━━━━━━━━━━━━━━━━━━━━━━━━━━━━━━━━━━━━━━\u001b[0m \u001b[32m258.1/258.1 kB\u001b[0m \u001b[31m776.5 kB/s\u001b[0m eta \u001b[36m0:00:00\u001b[0m\n",
            "\u001b[?25hInstalling collected packages: accelerate\n",
            "Successfully installed accelerate-0.23.0\n",
            "\u001b[33mWARNING: Running pip as the 'root' user can result in broken permissions and conflicting behaviour with the system package manager. It is recommended to use a virtual environment instead: https://pip.pypa.io/warnings/venv\u001b[0m\u001b[33m\n",
            "\u001b[0mRequirement already satisfied: accelerate in /usr/local/lib/python3.10/dist-packages (0.23.0)\n",
            "Requirement already satisfied: numpy>=1.17 in /usr/local/lib/python3.10/dist-packages (from accelerate) (1.23.5)\n",
            "Requirement already satisfied: packaging>=20.0 in /usr/local/lib/python3.10/dist-packages (from accelerate) (23.2)\n",
            "Requirement already satisfied: psutil in /usr/local/lib/python3.10/dist-packages (from accelerate) (5.9.5)\n",
            "Requirement already satisfied: pyyaml in /usr/local/lib/python3.10/dist-packages (from accelerate) (6.0.1)\n",
            "Requirement already satisfied: torch>=1.10.0 in /usr/local/lib/python3.10/dist-packages (from accelerate) (2.1.0+cu118)\n",
            "Requirement already satisfied: huggingface-hub in /usr/local/lib/python3.10/dist-packages (from accelerate) (0.17.3)\n",
            "Requirement already satisfied: filelock in /usr/local/lib/python3.10/dist-packages (from torch>=1.10.0->accelerate) (3.12.4)\n",
            "Requirement already satisfied: typing-extensions in /usr/local/lib/python3.10/dist-packages (from torch>=1.10.0->accelerate) (4.5.0)\n",
            "Requirement already satisfied: sympy in /usr/local/lib/python3.10/dist-packages (from torch>=1.10.0->accelerate) (1.12)\n",
            "Requirement already satisfied: networkx in /usr/local/lib/python3.10/dist-packages (from torch>=1.10.0->accelerate) (3.2)\n",
            "Requirement already satisfied: jinja2 in /usr/local/lib/python3.10/dist-packages (from torch>=1.10.0->accelerate) (3.1.2)\n",
            "Requirement already satisfied: fsspec in /usr/local/lib/python3.10/dist-packages (from torch>=1.10.0->accelerate) (2023.6.0)\n",
            "Requirement already satisfied: triton==2.1.0 in /usr/local/lib/python3.10/dist-packages (from torch>=1.10.0->accelerate) (2.1.0)\n",
            "Requirement already satisfied: requests in /usr/local/lib/python3.10/dist-packages (from huggingface-hub->accelerate) (2.31.0)\n",
            "Requirement already satisfied: tqdm>=4.42.1 in /usr/local/lib/python3.10/dist-packages (from huggingface-hub->accelerate) (4.66.1)\n",
            "Requirement already satisfied: MarkupSafe>=2.0 in /usr/local/lib/python3.10/dist-packages (from jinja2->torch>=1.10.0->accelerate) (2.1.3)\n",
            "Requirement already satisfied: charset-normalizer<4,>=2 in /usr/local/lib/python3.10/dist-packages (from requests->huggingface-hub->accelerate) (3.3.0)\n",
            "Requirement already satisfied: idna<4,>=2.5 in /usr/local/lib/python3.10/dist-packages (from requests->huggingface-hub->accelerate) (3.4)\n",
            "Requirement already satisfied: urllib3<3,>=1.21.1 in /usr/local/lib/python3.10/dist-packages (from requests->huggingface-hub->accelerate) (2.0.7)\n",
            "Requirement already satisfied: certifi>=2017.4.17 in /usr/local/lib/python3.10/dist-packages (from requests->huggingface-hub->accelerate) (2023.7.22)\n",
            "Requirement already satisfied: mpmath>=0.19 in /usr/local/lib/python3.10/dist-packages (from sympy->torch>=1.10.0->accelerate) (1.3.0)\n",
            "\u001b[33mWARNING: Running pip as the 'root' user can result in broken permissions and conflicting behaviour with the system package manager. It is recommended to use a virtual environment instead: https://pip.pypa.io/warnings/venv\u001b[0m\u001b[33m\n",
            "\u001b[0m"
          ]
        }
      ]
    },
    {
      "cell_type": "code",
      "source": [
        "!pip install sentencepiece"
      ],
      "metadata": {
        "colab": {
          "base_uri": "https://localhost:8080/"
        },
        "id": "orXX5oHAX8sc",
        "outputId": "3f2c72ef-f15b-46da-ec1c-a7645af51638"
      },
      "execution_count": 5,
      "outputs": [
        {
          "output_type": "stream",
          "name": "stdout",
          "text": [
            "Collecting sentencepiece\n",
            "  Downloading sentencepiece-0.1.99-cp310-cp310-manylinux_2_17_x86_64.manylinux2014_x86_64.whl (1.3 MB)\n",
            "\u001b[2K     \u001b[90m━━━━━━━━━━━━━━━━━━━━━━━━━━━━━━━━━━━━━━━━\u001b[0m \u001b[32m1.3/1.3 MB\u001b[0m \u001b[31m7.5 MB/s\u001b[0m eta \u001b[36m0:00:00\u001b[0m\n",
            "\u001b[?25hInstalling collected packages: sentencepiece\n",
            "Successfully installed sentencepiece-0.1.99\n",
            "\u001b[33mWARNING: Running pip as the 'root' user can result in broken permissions and conflicting behaviour with the system package manager. It is recommended to use a virtual environment instead: https://pip.pypa.io/warnings/venv\u001b[0m\u001b[33m\n",
            "\u001b[0m"
          ]
        }
      ]
    },
    {
      "cell_type": "code",
      "source": [
        "!pip install --upgrade transformers scikit-learn"
      ],
      "metadata": {
        "colab": {
          "base_uri": "https://localhost:8080/"
        },
        "id": "oMIKPqqPyYJQ",
        "outputId": "246e3453-b8e1-4e15-c83a-4c61b40e246d"
      },
      "execution_count": 6,
      "outputs": [
        {
          "output_type": "stream",
          "name": "stdout",
          "text": [
            "Requirement already satisfied: transformers in /usr/local/lib/python3.10/dist-packages (4.34.1)\n",
            "Requirement already satisfied: scikit-learn in /usr/local/lib/python3.10/dist-packages (1.3.2)\n",
            "Requirement already satisfied: filelock in /usr/local/lib/python3.10/dist-packages (from transformers) (3.12.4)\n",
            "Requirement already satisfied: huggingface-hub<1.0,>=0.16.4 in /usr/local/lib/python3.10/dist-packages (from transformers) (0.17.3)\n",
            "Requirement already satisfied: numpy>=1.17 in /usr/local/lib/python3.10/dist-packages (from transformers) (1.23.5)\n",
            "Requirement already satisfied: packaging>=20.0 in /usr/local/lib/python3.10/dist-packages (from transformers) (23.2)\n",
            "Requirement already satisfied: pyyaml>=5.1 in /usr/local/lib/python3.10/dist-packages (from transformers) (6.0.1)\n",
            "Requirement already satisfied: regex!=2019.12.17 in /usr/local/lib/python3.10/dist-packages (from transformers) (2023.6.3)\n",
            "Requirement already satisfied: requests in /usr/local/lib/python3.10/dist-packages (from transformers) (2.31.0)\n",
            "Requirement already satisfied: tokenizers<0.15,>=0.14 in /usr/local/lib/python3.10/dist-packages (from transformers) (0.14.1)\n",
            "Requirement already satisfied: safetensors>=0.3.1 in /usr/local/lib/python3.10/dist-packages (from transformers) (0.4.0)\n",
            "Requirement already satisfied: tqdm>=4.27 in /usr/local/lib/python3.10/dist-packages (from transformers) (4.66.1)\n",
            "Requirement already satisfied: scipy>=1.5.0 in /usr/local/lib/python3.10/dist-packages (from scikit-learn) (1.11.3)\n",
            "Requirement already satisfied: joblib>=1.1.1 in /usr/local/lib/python3.10/dist-packages (from scikit-learn) (1.3.2)\n",
            "Requirement already satisfied: threadpoolctl>=2.0.0 in /usr/local/lib/python3.10/dist-packages (from scikit-learn) (3.2.0)\n",
            "Requirement already satisfied: fsspec in /usr/local/lib/python3.10/dist-packages (from huggingface-hub<1.0,>=0.16.4->transformers) (2023.6.0)\n",
            "Requirement already satisfied: typing-extensions>=3.7.4.3 in /usr/local/lib/python3.10/dist-packages (from huggingface-hub<1.0,>=0.16.4->transformers) (4.5.0)\n",
            "Requirement already satisfied: charset-normalizer<4,>=2 in /usr/local/lib/python3.10/dist-packages (from requests->transformers) (3.3.0)\n",
            "Requirement already satisfied: idna<4,>=2.5 in /usr/local/lib/python3.10/dist-packages (from requests->transformers) (3.4)\n",
            "Requirement already satisfied: urllib3<3,>=1.21.1 in /usr/local/lib/python3.10/dist-packages (from requests->transformers) (2.0.7)\n",
            "Requirement already satisfied: certifi>=2017.4.17 in /usr/local/lib/python3.10/dist-packages (from requests->transformers) (2023.7.22)\n",
            "\u001b[33mWARNING: Running pip as the 'root' user can result in broken permissions and conflicting behaviour with the system package manager. It is recommended to use a virtual environment instead: https://pip.pypa.io/warnings/venv\u001b[0m\u001b[33m\n",
            "\u001b[0m"
          ]
        }
      ]
    },
    {
      "cell_type": "code",
      "source": [
        "!pip install huggingface_hub"
      ],
      "metadata": {
        "colab": {
          "base_uri": "https://localhost:8080/"
        },
        "id": "BJ2q7D-5pyMl",
        "outputId": "ee870fbc-be63-41f9-f679-dccf1df97e5b"
      },
      "execution_count": 7,
      "outputs": [
        {
          "output_type": "stream",
          "name": "stdout",
          "text": [
            "Requirement already satisfied: huggingface_hub in /usr/local/lib/python3.10/dist-packages (0.17.3)\n",
            "Requirement already satisfied: filelock in /usr/local/lib/python3.10/dist-packages (from huggingface_hub) (3.12.4)\n",
            "Requirement already satisfied: fsspec in /usr/local/lib/python3.10/dist-packages (from huggingface_hub) (2023.6.0)\n",
            "Requirement already satisfied: requests in /usr/local/lib/python3.10/dist-packages (from huggingface_hub) (2.31.0)\n",
            "Requirement already satisfied: tqdm>=4.42.1 in /usr/local/lib/python3.10/dist-packages (from huggingface_hub) (4.66.1)\n",
            "Requirement already satisfied: pyyaml>=5.1 in /usr/local/lib/python3.10/dist-packages (from huggingface_hub) (6.0.1)\n",
            "Requirement already satisfied: typing-extensions>=3.7.4.3 in /usr/local/lib/python3.10/dist-packages (from huggingface_hub) (4.5.0)\n",
            "Requirement already satisfied: packaging>=20.9 in /usr/local/lib/python3.10/dist-packages (from huggingface_hub) (23.2)\n",
            "Requirement already satisfied: charset-normalizer<4,>=2 in /usr/local/lib/python3.10/dist-packages (from requests->huggingface_hub) (3.3.0)\n",
            "Requirement already satisfied: idna<4,>=2.5 in /usr/local/lib/python3.10/dist-packages (from requests->huggingface_hub) (3.4)\n",
            "Requirement already satisfied: urllib3<3,>=1.21.1 in /usr/local/lib/python3.10/dist-packages (from requests->huggingface_hub) (2.0.7)\n",
            "Requirement already satisfied: certifi>=2017.4.17 in /usr/local/lib/python3.10/dist-packages (from requests->huggingface_hub) (2023.7.22)\n",
            "\u001b[33mWARNING: Running pip as the 'root' user can result in broken permissions and conflicting behaviour with the system package manager. It is recommended to use a virtual environment instead: https://pip.pypa.io/warnings/venv\u001b[0m\u001b[33m\n",
            "\u001b[0m"
          ]
        }
      ]
    },
    {
      "cell_type": "code",
      "source": [
        "!pip install nltk"
      ],
      "metadata": {
        "colab": {
          "base_uri": "https://localhost:8080/"
        },
        "id": "2b0BmELfpE_b",
        "outputId": "20f38130-5211-4f0c-9487-35945e08abcb"
      },
      "execution_count": 8,
      "outputs": [
        {
          "output_type": "stream",
          "name": "stdout",
          "text": [
            "Requirement already satisfied: nltk in /usr/local/lib/python3.10/dist-packages (3.8.1)\n",
            "Requirement already satisfied: click in /usr/local/lib/python3.10/dist-packages (from nltk) (8.1.7)\n",
            "Requirement already satisfied: joblib in /usr/local/lib/python3.10/dist-packages (from nltk) (1.3.2)\n",
            "Requirement already satisfied: regex>=2021.8.3 in /usr/local/lib/python3.10/dist-packages (from nltk) (2023.6.3)\n",
            "Requirement already satisfied: tqdm in /usr/local/lib/python3.10/dist-packages (from nltk) (4.66.1)\n",
            "\u001b[33mWARNING: Running pip as the 'root' user can result in broken permissions and conflicting behaviour with the system package manager. It is recommended to use a virtual environment instead: https://pip.pypa.io/warnings/venv\u001b[0m\u001b[33m\n",
            "\u001b[0m"
          ]
        }
      ]
    },
    {
      "cell_type": "markdown",
      "source": [
        "# ***Treinamento***\n"
      ],
      "metadata": {
        "id": "RkJYUXzBa_rl"
      }
    },
    {
      "cell_type": "markdown",
      "source": [
        "\n",
        "# **Geração de Texto com GPT-2**"
      ],
      "metadata": {
        "id": "D3xpuHr8PcYj"
      }
    },
    {
      "cell_type": "markdown",
      "source": [
        "# *Treinamento GPT-2*"
      ],
      "metadata": {
        "id": "3QzKMsx6qPA1"
      }
    },
    {
      "cell_type": "code",
      "execution_count": null,
      "metadata": {
        "colab": {
          "base_uri": "https://localhost:8080/"
        },
        "id": "qBLQLQIFHpTZ",
        "outputId": "f0339e51-3b3f-4b8b-aca5-f71e76eaf9e2"
      },
      "outputs": [
        {
          "metadata": {
            "tags": null
          },
          "name": "stderr",
          "output_type": "stream",
          "text": [
            "[nltk_data] Downloading package wordnet to /root/nltk_data...\n",
            "[nltk_data]   Package wordnet is already up-to-date!\n",
            "/usr/local/lib/python3.10/dist-packages/transformers/optimization.py:411: FutureWarning: This implementation of AdamW is deprecated and will be removed in a future version. Use the PyTorch implementation torch.optim.AdamW instead, or set `no_deprecation_warning=True` to disable this warning\n",
            "  warnings.warn(\n"
          ]
        }
      ],
      "source": [
        "import pandas as pd\n",
        "from sklearn.model_selection import train_test_split\n",
        "import torch\n",
        "from transformers import GPT2Tokenizer, GPT2LMHeadModel, AdamW, get_linear_schedule_with_warmup\n",
        "from torch.utils.data import Dataset, DataLoader\n",
        "\n",
        "# Seu DataFrame com textos e rótulos\n",
        "import pandas as pd\n",
        "import random\n",
        "import nltk\n",
        "nltk.download('wordnet')\n",
        "from textblob import Word\n",
        "\n",
        "# Seu DataFrame com textos e rótulos\n",
        "df = pd.DataFrame({\n",
        "    \"label\": [\"BILL\", \"BahiaRT\", \"python\", \"AI\", \"Machine Learning\", \"NLP\", \"ACSO\", \"UNEB\", \"Yolo\", \"ROS\", \"Transformers\", \"Robocup\", \"Robôs de Serviço\",\"BILL\", \"BahiaRT\", \"python\", \"AI\", \"Machine Learning\", \"NLP\", \"ACSO\", \"UNEB\", \"BahiaRt Multidisciplinar\", \"Yolo\", \"ROS\", \"Transformers\", \"Robocup\", \"Robôs de Serviço\"],\n",
        "    \"text\": [\"BILL é um robô de serviço projetado. Ele é um robô humanoide que pode ser usado para uma variedade de tarefas, incluindo atendimento ao cliente, limpeza e segurança. BILL é equipado com uma variedade de sensores e câmeras, que ele usa para navegar pelo ambiente e interagir com humanos. BILL é um produto da BahiaRT, uma equipe de robótica da UNEB. BILL é um dos projetos mais recentes da BahiaRT. BILL é um robô inovador que tem o potencial de melhorar a vida das pessoas. Ele pode ser usado para automatizar tarefas, fornecer assistência aos idosos e deficientes e até mesmo ajudar a salvar vidas.\",\n",
        "            \"BahiaRT é uma equipe de robótica da UNEB. A equipe foi fundada em 2007 por um grupo de estudantes e pesquisadores que compartilham o interesse em robótica.\",\n",
        "            \"Python é uma linguagem de programação geral de alto nível. É uma linguagem interpretada, o que significa que não precisa ser compilada antes de ser executada. Python é uma linguagem relativamente fácil de aprender e usar.\",\n",
        "            \"A inteligência artificial (IA) é uma área da ciência da computação que se concentra no desenvolvimento de sistemas capazes de executar tarefas que normalmente requerem inteligência humana. Ela engloba campos como aprendizado de máquina, visão computacional e processamento de linguagem natural.\",\n",
        "            \"A aprendizagem de máquina (Machine Learning) é um subcampo da inteligência artificial que se concentra no desenvolvimento de algoritmos e modelos que permitem que os sistemas aprendam e melhorem com base em dados. É amplamente utilizado em previsões e análise de dados.\",\n",
        "            \"O Processamento de Linguagem Natural (NLP) é uma subárea da IA que se concentra na interação entre computadores e linguagem humana. É usado em chatbots, tradução automática e análise de sentimentos, entre outras aplicações.\",\n",
        "            \"O ACSO (Núcleo de Arquitetura de Computadores e Sistemas Operacionais), é um grupo de Pesquisa da UNEB, Universidade do Estado da Bahia\",\n",
        "            \"A Uneb é uma das maiores universidades da Bahia, multicampi e para todos.Atualmente, a universidade disponibiliza mais de 170 opções de cursos e habilitações nas modalidades presencial e de educação a distância (EaD),[4] nos níveis de graduação e pós-graduação, oferecidos nos 29 Departamentos. Vale destacar, nessa seara, o expressivo crescimento na oferta de cursos stricto sensu (mestrados e doutorados) nos últimos anos, em Salvador  e outras cidades, promovendo a interiorização da pós-graduação pública, gratuita e de qualidade.Além dos câmpus, a UNEB está presente na quase totalidade dos 417 municípios do estado, por intermédio de programas e ações extensionistas em convênio com organizações públicas e privadas, que beneficiam milhões de cidadãos baianos, a maioria pertencente a segmentos social e economicamente desfavorecidos e excluídos. Alfabetização e capacitação de jovens e adultos em situação de risco social; educação em assentamentos da reforma agrária e em comunidades indígenas e quilombolas; projetos de inclusão e valorização voltados para pessoas deficientes, da terceira idade, LGBT, entre outros, são algumas das iniciativas que aproximam a universidade da sociedade.A UNEB desenvolve também importantes pesquisas em todas as regiões em que atua. Alguns projetos trazem a marca da vanguarda acadêmica, a exemplo dos trabalhos nas áreas de robótica e de jogos eletrônicos pedagógicos, com os quais já conquistou premiações e o reconhecimento nacional e internacional. O corpo discente da instituição é estimulado a participar das pesquisas por meio de programas de iniciação científica e de concessão de bolsas de monitoria.Com o apoio de sua comunidade acadêmica, dos muitos parceiros e da sociedade, a UNEB reafirma, a cada dia, seu compromisso de continuar trilhando o caminho que alia a excelência acadêmica à sua missão social, contribuindo, assim, para o desenvolvimento socioeducacional e econômico da Bahia e do país.[3]\",\n",
        "            \"A BahiaRT é uma equipe multidisciplinar que inclui estudantes de engenharia, ciência da computação e design. A BahiaRT tem trabalhado em uma variedade de projetos de robótica, incluindo Bill, um robô de serviço humanoide. A equipe também está trabalhando em um robô de resgate que pode ser usado em situações de emergência. A BahiaRT é uma equipe ativa que está constantemente desenvolvendo novos projetos de robótica. A equipe está comprometida em usar a robótica para melhorar a vida das pessoas.\",\n",
        "            \"O Yolo é um algoritmo de AI, utilizado para detecção de pessoas e objetos, BILL utiliza esse algoritmo para executar tarefas relacionadas a isso\",\n",
        "            \"Robot Operating System é uma coleção de frameworks de software para desenvolvimento de robôs, que fornece a funcionalidade de um sistema operacional em um cluster de computadores heterogêneo\",\n",
        "             \"As redes neurais Transformers são uma arquitetura de rede neural profunda que se destacou no processamento de linguagem natural e em diversas outras áreas. Elas usam um mecanismo de atenção para capturar relações complexas entre elementos em uma sequência de dados, permitindo a modelagem eficaz de dependências de longo alcance. Essas redes são pré-treinadas em grandes conjuntos de dados, adquirindo amplo conhecimento da linguagem e, em seguida, finamente ajustadas para tarefas específicas com conjuntos de dados menores, tornando o transfer learning eficaz e acessível. Essa abordagem é amplamente aplicável, sendo usada com sucesso em tarefas de NLP, visão computacional, áudio e outros domínios, tornando-se uma das arquiteturas mais influentes na aprendizagem profunda.\",\n",
        "             \"A RoboCup é uma competição internacional de robótica que visa promover a pesquisa e o desenvolvimento de sistemas autônomos e inteligentes. Fundada em 1997, a competição tem como objetivo principal avançar a tecnologia de robôs autônomos, incentivando a inovação em áreas como visão computacional, aprendizado de máquina, planejamento de movimento e interação homem-máquina. A competição envolve diversas categorias, incluindo robôs que jogam futebol, realizam resgates em situações de desastre e executam tarefas domésticas. A RoboCup também serve como plataforma para promover a educação em robótica e inteligência artificial, envolvendo equipes de estudantes e pesquisadores de todo o mundo. Ela desempenha um papel crucial no avanço da robótica autônoma e na promoção da colaboração global na área.\",\n",
        "             \"Robôs de serviço representam uma categoria crescente e inovadora de autômatos projetados para desempenhar uma variedade de tarefas em ambientes domésticos, comerciais e industriais. Esses robôs são projetados para tornar a vida mais conveniente e eficiente, oferecendo assistência em diversas áreas, desde a limpeza e segurança até a entrega de alimentos em restaurantes.\",\n",
        "             \"BILL é um robô de serviço projetado. Ele é um robô humanoide que pode ser usado para uma variedade de tarefas, incluindo atendimento ao cliente, limpeza e segurança. BILL é equipado com uma variedade de sensores e câmeras, que ele usa para navegar pelo ambiente e interagir com humanos. BILL é um produto da BahiaRT, uma equipe de robótica da UNEB. BILL é um dos projetos mais recentes da BahiaRT. BILL é um robô inovador que tem o potencial de melhorar a vida das pessoas. Ele pode ser usado para automatizar tarefas, fornecer assistência aos idosos e deficientes e até mesmo ajudar a salvar vidas.\",\n",
        "            \"BahiaRT é uma equipe de robótica da UNEB. A equipe foi fundada em 2007 por um grupo de estudantes e pesquisadores que compartilham o interesse em robótica.\",\n",
        "            \"Python é uma linguagem de programação geral de alto nível. É uma linguagem interpretada, o que significa que não precisa ser compilada antes de ser executada. Python é uma linguagem relativamente fácil de aprender e usar.\",\n",
        "            \"A inteligência artificial (IA) é uma área da ciência da computação que se concentra no desenvolvimento de sistemas capazes de executar tarefas que normalmente requerem inteligência humana. Ela engloba campos como aprendizado de máquina, visão computacional e processamento de linguagem natural.\",\n",
        "            \"A aprendizagem de máquina (Machine Learning) é um subcampo da inteligência artificial que se concentra no desenvolvimento de algoritmos e modelos que permitem que os sistemas aprendam e melhorem com base em dados. É amplamente utilizado em previsões e análise de dados.\",\n",
        "            \"O Processamento de Linguagem Natural (NLP) é uma subárea da IA que se concentra na interação entre computadores e linguagem humana. É usado em chatbots, tradução automática e análise de sentimentos, entre outras aplicações.\",\n",
        "            \"O ACSO (Núcleo de Arquitetura de Computadores e Sistemas Operacionais), é um grupo de Pesquisa da UNEB, Universidade do Estado da Bahia\",\n",
        "            \"A Uneb é uma das maiores universidades da Bahia, multicampi e para todos.Foi fundada em 1983 e mantida pelo Governo do Estado por intermédio da Secretaria da Educação do Estado da Bahia (SEC), está presente geograficamente em todas as regiões do Estado, estruturada no sistema multicampi.A capilaridade de sua estrutura e abrangência de suas atividades está diretamente relacionada à missão social que desempenha. A UNEB possui 31 Departamentos instalados em 26 campi: um sediado na capital do estado, onde se localiza a administração central da instituição, e os demais distribuídos em 25 importantes municípios baianos de porte médio e grande.Atualmente, a universidade disponibiliza mais de 170 opções de cursos e habilitações nas modalidades presencial e de educação a distância (EaD) nos níveis de graduação e pós-graduação, oferecidos nos 29 Departamentos. Vale destacar, nessa seara, o expressivo crescimento na oferta de cursos stricto sensu (mestrados e doutorados) nos últimos anos, em Salvador  e outras cidades, promovendo a interiorização da pós-graduação pública, gratuita e de qualidade.Além dos câmpus, a UNEB está presente na quase totalidade dos 417 municípios do estado, por intermédio de programas e ações extensionistas em convênio com organizações públicas e privadas, que beneficiam milhões de cidadãos baianos, a maioria pertencente a segmentos social e economicamente desfavorecidos e excluídos. Alfabetização e capacitação de jovens e adultos em situação de risco social; educação em assentamentos da reforma agrária e em comunidades indígenas e quilombolas; projetos de inclusão e valorização voltados para pessoas deficientes, da terceira idade, LGBT, entre outros, são algumas das iniciativas que aproximam a universidade da sociedade.A UNEB desenvolve também importantes pesquisas em todas as regiões em que atua. Alguns projetos trazem a marca da vanguarda acadêmica, a exemplo dos trabalhos nas áreas de robótica e de jogos eletrônicos pedagógicos, com os quais já conquistou premiações e o reconhecimento nacional e internacional. O corpo discente da instituição é estimulado a participar das pesquisas por meio de programas de iniciação científica e de concessão de bolsas de monitoria.Com o apoio de sua comunidade acadêmica, dos muitos parceiros e da sociedade, a UNEB reafirma, a cada dia, seu compromisso de continuar trilhando o caminho que alia a excelência acadêmica à sua missão social, contribuindo, assim, para o desenvolvimento socioeducacional e econômico da Bahia e do país.\",\n",
        "            \"O Yolo é um algoritmo de AI, utilizado para detecção de pessoas e objetos, BILL utiliza esse algoritmo para executar tarefas relacionadas a isso\",\n",
        "            \"Robot Operating System é uma coleção de frameworks de software para desenvolvimento de robôs, que fornece a funcionalidade de um sistema operacional em um cluster de computadores heterogêneo\",\n",
        "             \"As redes neurais Transformers são uma arquitetura de rede neural profunda que se destacou no processamento de linguagem natural e em diversas outras áreas. Elas usam um mecanismo de atenção para capturar relações complexas entre elementos em uma sequência de dados, permitindo a modelagem eficaz de dependências de longo alcance. Essas redes são pré-treinadas em grandes conjuntos de dados, adquirindo amplo conhecimento da linguagem e, em seguida, finamente ajustadas para tarefas específicas com conjuntos de dados menores, tornando o transfer learning eficaz e acessível. Essa abordagem é amplamente aplicável, sendo usada com sucesso em tarefas de NLP, visão computacional, áudio e outros domínios, tornando-se uma das arquiteturas mais influentes na aprendizagem profunda.\",\n",
        "             \"A RoboCup é uma competição internacional de robótica que visa promover a pesquisa e o desenvolvimento de sistemas autônomos e inteligentes. Fundada em 1997, a competição tem como objetivo principal avançar a tecnologia de robôs autônomos, incentivando a inovação em áreas como visão computacional, aprendizado de máquina, planejamento de movimento e interação homem-máquina. A competição envolve diversas categorias, incluindo robôs que jogam futebol, realizam resgates em situações de desastre e executam tarefas domésticas. A RoboCup também serve como plataforma para promover a educação em robótica e inteligência artificial, envolvendo equipes de estudantes e pesquisadores de todo o mundo. Ela desempenha um papel crucial no avanço da robótica autônoma e na promoção da colaboração global na área.\",\n",
        "             \"Robôs de serviço representam uma categoria crescente e inovadora de autômatos projetados para desempenhar uma variedade de tarefas em ambientes domésticos, comerciais e industriais. Esses robôs são projetados para tornar a vida mais conveniente e eficiente, oferecendo assistência em diversas áreas, desde a limpeza e segurança até a entrega de alimentos em restaurantes.\"]\n",
        "})\n",
        "\n",
        "# Concatene o DataFrame original várias vezes para aumentar a quantidade de dados\n",
        "n_copies = 10  # Defina o número de vezes que você deseja replicar o DataFrame\n",
        "df = pd.concat([df] * n_copies, ignore_index=True)\n",
        "# Dividir o DataFrame em treinamento e teste\n",
        "train_df, test_df = train_test_split(df, test_size=0.2)\n",
        "\n",
        "# Carregar o tokenizador e modelo pré-treinado GPT-2\n",
        "tokenizer = GPT2Tokenizer.from_pretrained('gpt2-large')\n",
        "model = GPT2LMHeadModel.from_pretrained('gpt2-large')\n",
        "\n",
        "# Defina um token de padding\n",
        "tokenizer.pad_token = tokenizer.eos_token\n",
        "\n",
        "# Defina o tamanho do lote e crie um DataLoader personalizado para treinamento\n",
        "class TextDataset(Dataset):\n",
        "    def __init__(self, df, tokenizer):\n",
        "        self.texts = df['text'].values\n",
        "        self.tokenizer = tokenizer\n",
        "\n",
        "    def __len__(self):\n",
        "        return len(self.texts)\n",
        "\n",
        "    def __getitem__(self, idx):\n",
        "        inputs = self.tokenizer(self.texts[idx], return_tensors='pt', padding='max_length', max_length=128, truncation=True)\n",
        "        return inputs\n",
        "\n",
        "train_dataset = TextDataset(train_df, tokenizer)\n",
        "train_dataloader = DataLoader(train_dataset, batch_size=4, shuffle=True)\n",
        "\n",
        "# Configurar otimizador e agendador de taxa de aprendizado\n",
        "optimizer = AdamW(model.parameters(), lr=2e-4, weight_decay=0.05)\n",
        "scheduler = get_linear_schedule_with_warmup(optimizer, num_warmup_steps=0, num_training_steps=len(train_dataloader) * 10)\n",
        "\n",
        "# Adicione dropout como técnica de regularização\n",
        "model.config.dropout = 0.2\n",
        "\n",
        "# Treinamento\n",
        "model.train()\n",
        "for epoch in range(15):\n",
        "    total_loss = 0.0\n",
        "    for batch in train_dataloader:\n",
        "        optimizer.zero_grad()\n",
        "        inputs = batch[\"input_ids\"]\n",
        "        loss = model(inputs, labels=inputs).loss\n",
        "        loss.backward()\n",
        "        optimizer.step()\n",
        "        scheduler.step()\n",
        "        total_loss += loss.item()\n",
        "    print(f'Epoch {epoch + 1}, Loss: {total_loss / len(train_dataloader)}')\n",
        "\n",
        "    # Gere texto de exemplo após algumas épocas\n",
        "    if (epoch + 1) % 5 == 0:\n",
        "        model.eval()\n",
        "        prompt = \"UNEB\"\n",
        "        prompt_ids = tokenizer(prompt, return_tensors='pt').input_ids\n",
        "        generated_text = model.generate(prompt_ids, max_length=1024, num_return_sequences=1, no_repeat_ngram_size=2)\n",
        "        print(f'Texto gerado na época {epoch + 1}:')\n",
        "        print(tokenizer.decode(generated_text[0], skip_special_tokens=True))\n",
        "        model.train()\n",
        "\n",
        "# Salvar o modelo fine-tunado\n",
        "model.save_pretrained(\"fine_tuned_gpt2\")\n",
        "tokenizer.save_pretrained(\"fine_tuned_gpt2\")\n"
      ]
    },
    {
      "cell_type": "markdown",
      "source": [
        "# *Inferência GPT2*\n"
      ],
      "metadata": {
        "id": "gNWu4IBHWihW"
      }
    },
    {
      "cell_type": "code",
      "source": [
        "\n",
        "import torch\n",
        "from transformers import GPT2LMHeadModel, GPT2Tokenizer\n",
        "\n",
        "# Carregar o modelo fine-tunado\n",
        "fine_tuned_model = GPT2LMHeadModel.from_pretrained(\"fine_tuned_gpt2\")\n",
        "fine_tuned_tokenizer = GPT2Tokenizer.from_pretrained(\"fine_tuned_gpt2\")\n",
        "\n",
        "# Exemplo de inferência com temperatura definida\n",
        "prompt = \"O que é o BILL\"\n",
        "input_ids = fine_tuned_tokenizer.encode(prompt, return_tensors='pt')\n",
        "temperature = 0.2  # Ajuste o valor de temperatura conforme desejado\n",
        "max_output_length = 60  # Ajuste o comprimento máximo da saída\n",
        "\n",
        "with torch.no_grad():\n",
        "    output = fine_tuned_model.generate(input_ids, max_length=max_output_length, num_return_sequences=1, no_repeat_ngram_size=2, temperature=temperature)\n",
        "generated_text = fine_tuned_tokenizer.decode(output[0], skip_special_tokens=True)\n",
        "\n",
        "print(\"Texto gerado:\")\n",
        "print(generated_text)"
      ],
      "metadata": {
        "id": "N0FMA_ueWfV2",
        "colab": {
          "base_uri": "https://localhost:8080/"
        },
        "outputId": "f09fe169-98fa-40b1-c454-e629e46804ca"
      },
      "execution_count": null,
      "outputs": [
        {
          "output_type": "stream",
          "name": "stderr",
          "text": [
            "/usr/local/lib/python3.10/dist-packages/transformers/generation/configuration_utils.py:362: UserWarning: `do_sample` is set to `False`. However, `temperature` is set to `0.2` -- this flag is only used in sample-based generation modes. You should set `do_sample=True` or unset `temperature`.\n",
            "  warnings.warn(\n",
            "The attention mask and the pad token id were not set. As a consequence, you may observe unexpected behavior. Please pass your input's `attention_mask` to obtain reliable results.\n",
            "Setting `pad_token_id` to `eos_token_id`:50256 for open-end generation.\n"
          ]
        },
        {
          "output_type": "stream",
          "name": "stdout",
          "text": [
            "Texto gerado:\n",
            "O que é o BILL é uma linguagem de programação geral de alto nível. É uMA linguaggi e o desenvolvimento de sistemas autônomos, incentivando a inovações e\n"
          ]
        }
      ]
    },
    {
      "cell_type": "markdown",
      "source": [
        "# ***Métrica Rouge***"
      ],
      "metadata": {
        "id": "UnJyKTv0c-Jg"
      }
    },
    {
      "cell_type": "code",
      "source": [
        "import torch\n",
        "from transformers import GPT2Tokenizer, GPT2LMHeadModel\n",
        "import pandas as pd\n",
        "import nltk\n",
        "from rouge_score import rouge_scorer\n",
        "\n",
        "nltk.download('punkt')\n",
        "\n",
        "# Carregar o tokenizador e o modelo pré-treinado GPT-2\n",
        "tokenizer = GPT2Tokenizer.from_pretrained('fine_tuned_gpt2')\n",
        "model = GPT2LMHeadModel.from_pretrained('fine_tuned_gpt2')  # Carregue o modelo fine-tunado\n",
        "\n",
        "# Seu DataFrame de teste\n",
        "test_df = pd.DataFrame({\n",
        "    \"label\": [\"BILL\", \"BahiaRT\", \"python\", \"AI\", \"Machine Learning\", \"NLP\", \"ACSO\", \"UNEB\", \"BahiaRt Multidisciplinar\", \"Yolo\", \"ROS\", \"Transformers\", \"Robocup\", \"Robôs de Serviço\"],\n",
        "    \"text\": [\"BILL é um robô de serviço projetado. Ele é um robô humanoide que pode ser usado para uma variedade de tarefas, incluindo atendimento ao cliente, limpeza e segurança. BILL é equipado com uma variedade de sensores e câmeras, que ele usa para navegar pelo ambiente e interagir com humanos. BILL é um produto da BahiaRT, uma equipe de robótica da UNEB. BILL é um dos projetos mais recentes da BahiaRT. BILL é um robô inovador que tem o potencial de melhorar a vida das pessoas. Ele pode ser usado para automatizar tarefas, fornecer assistência aos idosos e deficientes e até mesmo ajudar a salvar vidas.\",\n",
        "            \"BahiaRT é uma equipe de robótica da UNEB. A equipe foi fundada em 2007 por um grupo de estudantes e pesquisadores que compartilham o interesse em robótica.\",\n",
        "            \"Python é uma linguagem de programação geral de alto nível. É uma linguagem interpretada, o que significa que não precisa ser compilada antes de ser executada. Python é uma linguagem relativamente fácil de aprender e usar.\",\n",
        "            \"A inteligência artificial (IA) é uma área da ciência da computação que se concentra no desenvolvimento de sistemas capazes de executar tarefas que normalmente requerem inteligência humana. Ela engloba campos como aprendizado de máquina, visão computacional e processamento de linguagem natural.\",\n",
        "            \"A aprendizagem de máquina (Machine Learning) é um subcampo da inteligência artificial que se concentra no desenvolvimento de algoritmos e modelos que permitem que os sistemas aprendam e melhorem com base em dados. É amplamente utilizado em previsões e análise de dados.\",\n",
        "            \"O Processamento de Linguagem Natural (NLP) é uma subárea da IA que se concentra na interação entre computadores e linguagem humana. É usado em chatbots, tradução automática e análise de sentimentos, entre outras aplicações.\",\n",
        "            \"O ACSO (Núcleo de Arquitetura de Computadores e Sistemas Operacionais), é um grupo de Pesquisa da UNEB, Universidade do Estado da Bahia\",\n",
        "            \"A Uneb é uma das maiores universidades da Bahia, multicampi e para todos.\",\n",
        "            \"A BahiaRT é uma equipe multidisciplinar que inclui estudantes de engenharia, ciência da computação e design. A BahiaRT tem trabalhado em uma variedade de projetos de robótica, incluindo Bill, um robô de serviço humanoide. A equipe também está trabalhando em um robô de resgate que pode ser usado em situações de emergência. A BahiaRT é uma equipe ativa que está constantemente desenvolvendo novos projetos de robótica. A equipe está comprometida em usar a robótica para melhorar a vida das pessoas.\",\n",
        "            \"O Yolo é um algoritmo de AI, utilizado para detecção de pessoas e objetos, BILL utiliza esse algoritmo para executar tarefas relacionadas a isso\",\n",
        "            \"Robot Operating System é uma coleção de frameworks de software para desenvolvimento de robôs, que fornece a funcionalidade de um sistema operacional em um cluster de computadores heterogêneo\",\n",
        "             \"As redes neurais Transformers são uma arquitetura de rede neural profunda que se destacou no processamento de linguagem natural e em diversas outras áreas. Elas usam um mecanismo de atenção para capturar relações complexas entre elementos em uma sequência de dados, permitindo a modelagem eficaz de dependências de longo alcance. Essas redes são pré-treinadas em grandes conjuntos de dados, adquirindo amplo conhecimento da linguagem e, em seguida, finamente ajustadas para tarefas específicas com conjuntos de dados menores, tornando o transfer learning eficaz e acessível. Essa abordagem é amplamente aplicável, sendo usada com sucesso em tarefas de NLP, visão computacional, áudio e outros domínios, tornando-se uma das arquiteturas mais influentes na aprendizagem profunda.\",\n",
        "             \"A RoboCup é uma competição internacional de robótica que visa promover a pesquisa e o desenvolvimento de sistemas autônomos e inteligentes. Fundada em 1997, a competição tem como objetivo principal avançar a tecnologia de robôs autônomos, incentivando a inovação em áreas como visão computacional, aprendizado de máquina, planejamento de movimento e interação homem-máquina. A competição envolve diversas categorias, incluindo robôs que jogam futebol, realizam resgates em situações de desastre e executam tarefas domésticas. A RoboCup também serve como plataforma para promover a educação em robótica e inteligência artificial, envolvendo equipes de estudantes e pesquisadores de todo o mundo. Ela desempenha um papel crucial no avanço da robótica autônoma e na promoção da colaboração global na área.\",\n",
        "             \"Robôs de serviço representam uma categoria crescente e inovadora de autômatos projetados para desempenhar uma variedade de tarefas em ambientes domésticos, comerciais e industriais. Esses robôs são projetados para tornar a vida mais conveniente e eficiente, oferecendo assistência em diversas áreas, desde a limpeza e segurança até a entrega de alimentos em restaurantes.\"]\n",
        "})\n",
        "\n",
        "# Função para gerar texto usando o modelo fine-tunado\n",
        "def generate_text(prompt, model, tokenizer):\n",
        "    prompt_ids = tokenizer(prompt, return_tensors='pt').input_ids\n",
        "    generated_text = model.generate(prompt_ids, max_length=100, num_return_sequences=1, no_repeat_ngram_size=2)\n",
        "    return tokenizer.decode(generated_text[0], skip_special_tokens=True)\n",
        "\n",
        "# Função para calcular as métricas ROUGE\n",
        "def calculate_rouge_scores(model, tokenizer, test_df):\n",
        "    scorer = rouge_scorer.RougeScorer(['rouge1', 'rouge2', 'rougeL'], use_stemmer=True)\n",
        "    rouge_scores = {\"rouge1\": {\"precision\": 0, \"recall\": 0, \"f1\": 0},\n",
        "                    \"rouge2\": {\"precision\": 0, \"recall\": 0, \"f1\": 0},\n",
        "                    \"rougeL\": {\"precision\": 0, \"recall\": 0, \"f1\": 0}}\n",
        "\n",
        "    for index, row in test_df.iterrows():\n",
        "        reference_text = row[\"text\"]\n",
        "        generated_text = generate_text(row[\"label\"], model, tokenizer)\n",
        "\n",
        "        scores = scorer.score(reference_text, generated_text)\n",
        "\n",
        "        for metric in [\"rouge1\", \"rouge2\", \"rougeL\"]:\n",
        "            rouge_scores[metric][\"precision\"] += scores[metric].precision\n",
        "            rouge_scores[metric][\"recall\"] += scores[metric].recall\n",
        "\n",
        "    for metric in rouge_scores:\n",
        "        rouge_scores[metric][\"precision\"] /= len(test_df)\n",
        "        rouge_scores[metric][\"recall\"] /= len(test_df)\n",
        "        p = rouge_scores[metric][\"precision\"]\n",
        "        r = rouge_scores[metric][\"recall\"]\n",
        "        if p + r > 0:\n",
        "            f1 = (2 * p * r) / (p + r)\n",
        "            rouge_scores[metric][\"f1\"] = f1\n",
        "\n",
        "    return rouge_scores\n",
        "\n",
        "# Avaliar o modelo e obter as métricas ROUGE\n",
        "model.eval()\n",
        "rouge_scores = calculate_rouge_scores(model, tokenizer, test_df)\n",
        "\n",
        "print(\"ROUGE Scores:\")\n",
        "for metric in rouge_scores:\n",
        "    print(f\"{metric}:\")\n",
        "    print(f\"Precision: {rouge_scores[metric]['precision']}\")\n",
        "    print(f\"Recall: {rouge_scores[metric]['recall']}\")\n",
        "    print(f\"F1-score: {rouge_scores[metric]['f1']}\")\n"
      ],
      "metadata": {
        "colab": {
          "base_uri": "https://localhost:8080/"
        },
        "id": "17e3Nm4WdPtU",
        "outputId": "4f2cab40-5456-48c2-d821-dedaebc50b53"
      },
      "execution_count": null,
      "outputs": [
        {
          "output_type": "stream",
          "name": "stderr",
          "text": [
            "[nltk_data] Downloading package punkt to /root/nltk_data...\n",
            "[nltk_data]   Package punkt is already up-to-date!\n",
            "The attention mask and the pad token id were not set. As a consequence, you may observe unexpected behavior. Please pass your input's `attention_mask` to obtain reliable results.\n",
            "Setting `pad_token_id` to `eos_token_id`:50256 for open-end generation.\n",
            "The attention mask and the pad token id were not set. As a consequence, you may observe unexpected behavior. Please pass your input's `attention_mask` to obtain reliable results.\n",
            "Setting `pad_token_id` to `eos_token_id`:50256 for open-end generation.\n",
            "The attention mask and the pad token id were not set. As a consequence, you may observe unexpected behavior. Please pass your input's `attention_mask` to obtain reliable results.\n",
            "Setting `pad_token_id` to `eos_token_id`:50256 for open-end generation.\n",
            "The attention mask and the pad token id were not set. As a consequence, you may observe unexpected behavior. Please pass your input's `attention_mask` to obtain reliable results.\n",
            "Setting `pad_token_id` to `eos_token_id`:50256 for open-end generation.\n",
            "The attention mask and the pad token id were not set. As a consequence, you may observe unexpected behavior. Please pass your input's `attention_mask` to obtain reliable results.\n",
            "Setting `pad_token_id` to `eos_token_id`:50256 for open-end generation.\n",
            "The attention mask and the pad token id were not set. As a consequence, you may observe unexpected behavior. Please pass your input's `attention_mask` to obtain reliable results.\n",
            "Setting `pad_token_id` to `eos_token_id`:50256 for open-end generation.\n",
            "The attention mask and the pad token id were not set. As a consequence, you may observe unexpected behavior. Please pass your input's `attention_mask` to obtain reliable results.\n",
            "Setting `pad_token_id` to `eos_token_id`:50256 for open-end generation.\n",
            "The attention mask and the pad token id were not set. As a consequence, you may observe unexpected behavior. Please pass your input's `attention_mask` to obtain reliable results.\n",
            "Setting `pad_token_id` to `eos_token_id`:50256 for open-end generation.\n",
            "The attention mask and the pad token id were not set. As a consequence, you may observe unexpected behavior. Please pass your input's `attention_mask` to obtain reliable results.\n",
            "Setting `pad_token_id` to `eos_token_id`:50256 for open-end generation.\n",
            "The attention mask and the pad token id were not set. As a consequence, you may observe unexpected behavior. Please pass your input's `attention_mask` to obtain reliable results.\n",
            "Setting `pad_token_id` to `eos_token_id`:50256 for open-end generation.\n",
            "The attention mask and the pad token id were not set. As a consequence, you may observe unexpected behavior. Please pass your input's `attention_mask` to obtain reliable results.\n",
            "Setting `pad_token_id` to `eos_token_id`:50256 for open-end generation.\n",
            "The attention mask and the pad token id were not set. As a consequence, you may observe unexpected behavior. Please pass your input's `attention_mask` to obtain reliable results.\n",
            "Setting `pad_token_id` to `eos_token_id`:50256 for open-end generation.\n",
            "The attention mask and the pad token id were not set. As a consequence, you may observe unexpected behavior. Please pass your input's `attention_mask` to obtain reliable results.\n",
            "Setting `pad_token_id` to `eos_token_id`:50256 for open-end generation.\n",
            "The attention mask and the pad token id were not set. As a consequence, you may observe unexpected behavior. Please pass your input's `attention_mask` to obtain reliable results.\n",
            "Setting `pad_token_id` to `eos_token_id`:50256 for open-end generation.\n"
          ]
        },
        {
          "output_type": "stream",
          "name": "stdout",
          "text": [
            "ROUGE Scores:\n",
            "rouge1:\n",
            "Precision: 0.707914249848585\n",
            "Recall: 0.43843955860324196\n",
            "F1-score: 0.5415040434187238\n",
            "rouge2:\n",
            "Precision: 0.46134066874613094\n",
            "Recall: 0.35544835356710097\n",
            "F1-score: 0.4015303258482617\n",
            "rougeL:\n",
            "Precision: 0.656803554614144\n",
            "Recall: 0.3979621131168648\n",
            "F1-score: 0.49562275013974366\n"
          ]
        }
      ]
    },
    {
      "cell_type": "code",
      "source": [
        "import matplotlib.pyplot as plt\n",
        "\n",
        "# Função para calcular as métricas ROUGE e armazenar as precisões em uma lista\n",
        "def calculate_rouge_scores(model, tokenizer, test_df):\n",
        "    scorer = rouge_scorer.RougeScorer(['rouge1'], use_stemmer=True)\n",
        "    rouge_precisions = []  # Lista para armazenar as precisões do ROUGE-1\n",
        "\n",
        "    for index, row in test_df.iterrows():\n",
        "        reference_text = row[\"text\"]\n",
        "        generated_text = generate_text(row[\"label\"], model, tokenizer)\n",
        "\n",
        "        scores = scorer.score(reference_text, generated_text)\n",
        "        rouge_precisions.append(scores['rouge1'].precision)\n",
        "\n",
        "    return rouge_precisions\n",
        "\n",
        "# Avaliar o modelo e obter as precisões do ROUGE-1\n",
        "model.eval()\n",
        "rouge_precisions = calculate_rouge_scores(model, tokenizer, test_df)\n",
        "\n",
        "# Gerar um gráfico de barras das precisões do ROUGE-1\n",
        "plt.figure(figsize=(10, 6))\n",
        "plt.bar(range(len(rouge_precisions)), rouge_precisions)\n",
        "plt.xlabel(\"Exemplo\")\n",
        "plt.ylabel(\"ROUGE-1 Precision\")\n",
        "plt.title(\"Precisões do ROUGE-1 para Exemplos de Teste\")\n",
        "plt.xticks(range(len(rouge_precisions)), test_df[\"label\"], rotation=90)\n",
        "plt.tight_layout()\n",
        "\n",
        "plt.show()\n"
      ],
      "metadata": {
        "colab": {
          "base_uri": "https://localhost:8080/",
          "height": 1000
        },
        "id": "-7Rpy9ZY8iUg",
        "outputId": "eb0126f7-dfe3-4205-a4d8-8e63b3bf4938"
      },
      "execution_count": null,
      "outputs": [
        {
          "output_type": "stream",
          "name": "stderr",
          "text": [
            "The attention mask and the pad token id were not set. As a consequence, you may observe unexpected behavior. Please pass your input's `attention_mask` to obtain reliable results.\n",
            "Setting `pad_token_id` to `eos_token_id`:50256 for open-end generation.\n",
            "The attention mask and the pad token id were not set. As a consequence, you may observe unexpected behavior. Please pass your input's `attention_mask` to obtain reliable results.\n",
            "Setting `pad_token_id` to `eos_token_id`:50256 for open-end generation.\n",
            "The attention mask and the pad token id were not set. As a consequence, you may observe unexpected behavior. Please pass your input's `attention_mask` to obtain reliable results.\n",
            "Setting `pad_token_id` to `eos_token_id`:50256 for open-end generation.\n",
            "The attention mask and the pad token id were not set. As a consequence, you may observe unexpected behavior. Please pass your input's `attention_mask` to obtain reliable results.\n",
            "Setting `pad_token_id` to `eos_token_id`:50256 for open-end generation.\n",
            "The attention mask and the pad token id were not set. As a consequence, you may observe unexpected behavior. Please pass your input's `attention_mask` to obtain reliable results.\n",
            "Setting `pad_token_id` to `eos_token_id`:50256 for open-end generation.\n",
            "The attention mask and the pad token id were not set. As a consequence, you may observe unexpected behavior. Please pass your input's `attention_mask` to obtain reliable results.\n",
            "Setting `pad_token_id` to `eos_token_id`:50256 for open-end generation.\n",
            "The attention mask and the pad token id were not set. As a consequence, you may observe unexpected behavior. Please pass your input's `attention_mask` to obtain reliable results.\n",
            "Setting `pad_token_id` to `eos_token_id`:50256 for open-end generation.\n",
            "The attention mask and the pad token id were not set. As a consequence, you may observe unexpected behavior. Please pass your input's `attention_mask` to obtain reliable results.\n",
            "Setting `pad_token_id` to `eos_token_id`:50256 for open-end generation.\n",
            "The attention mask and the pad token id were not set. As a consequence, you may observe unexpected behavior. Please pass your input's `attention_mask` to obtain reliable results.\n",
            "Setting `pad_token_id` to `eos_token_id`:50256 for open-end generation.\n",
            "The attention mask and the pad token id were not set. As a consequence, you may observe unexpected behavior. Please pass your input's `attention_mask` to obtain reliable results.\n",
            "Setting `pad_token_id` to `eos_token_id`:50256 for open-end generation.\n",
            "The attention mask and the pad token id were not set. As a consequence, you may observe unexpected behavior. Please pass your input's `attention_mask` to obtain reliable results.\n",
            "Setting `pad_token_id` to `eos_token_id`:50256 for open-end generation.\n",
            "The attention mask and the pad token id were not set. As a consequence, you may observe unexpected behavior. Please pass your input's `attention_mask` to obtain reliable results.\n",
            "Setting `pad_token_id` to `eos_token_id`:50256 for open-end generation.\n",
            "The attention mask and the pad token id were not set. As a consequence, you may observe unexpected behavior. Please pass your input's `attention_mask` to obtain reliable results.\n",
            "Setting `pad_token_id` to `eos_token_id`:50256 for open-end generation.\n",
            "The attention mask and the pad token id were not set. As a consequence, you may observe unexpected behavior. Please pass your input's `attention_mask` to obtain reliable results.\n",
            "Setting `pad_token_id` to `eos_token_id`:50256 for open-end generation.\n"
          ]
        },
        {
          "output_type": "display_data",
          "data": {
            "text/plain": [
              "<Figure size 1000x600 with 1 Axes>"
            ],
            "image/png": "[encoded data removed]"
          },
          "metadata": {}
        }
      ]
    },
    {
      "cell_type": "markdown",
      "source": [
        "# ***Métrica BLEU***"
      ],
      "metadata": {
        "id": "ACqYUiNtEymn"
      }
    },
    {
      "cell_type": "code",
      "source": [
        "import torch\n",
        "from transformers import GPT2Tokenizer, GPT2LMHeadModel\n",
        "import pandas as pd\n",
        "import nltk\n",
        "from nltk.translate.bleu_score import sentence_bleu, corpus_bleu\n",
        "import matplotlib.pyplot as plt\n",
        "\n",
        "nltk.download('punkt')\n",
        "\n",
        "# Carregar o tokenizador e o modelo pré-treinado GPT-2\n",
        "tokenizer = GPT2Tokenizer.from_pretrained('fine_tuned_gpt2')\n",
        "model = GPT2LMHeadModel.from_pretrained('fine_tuned_gpt2')  # Carregue o modelo fine-tunado\n",
        "\n",
        "# Seu DataFrame de teste\n",
        "test_df = pd.DataFrame({\n",
        "    \"label\": [\"BILL\", \"BahiaRT\", \"python\", \"AI\", \"Machine Learning\", \"NLP\", \"ACSO\", \"UNEB\", \"BahiaRt Multidisciplinar\", \"Yolo\", \"ROS\", \"Transformers\", \"Robocup\", \"Robôs de Serviço\"],\n",
        "    \"text\": [\"BILL é um robô de serviço projetado. Ele é um robô humanoide que pode ser usado para uma variedade de tarefas, incluindo atendimento ao cliente, limpeza e segurança. BILL é equipado com uma variedade de sensores e câmeras, que ele usa para navegar pelo ambiente e interagir com humanos. BILL é um produto da BahiaRT, uma equipe de robótica da UNEB. BILL é um dos projetos mais recentes da BahiaRT. BILL é um robô inovador que tem o potencial de melhorar a vida das pessoas. Ele pode ser usado para automatizar tarefas, fornecer assistência aos idosos e deficientes e até mesmo ajudar a salvar vidas.\",\n",
        "            \"BahiaRT é uma equipe de robótica da UNEB. A equipe foi fundada em 2007 por um grupo de estudantes e pesquisadores que compartilham o interesse em robótica.\",\n",
        "            \"Python é uma linguagem de programação geral de alto nível. É uma linguagem interpretada, o que significa que não precisa ser compilada antes de ser executada. Python é uma linguagem relativamente fácil de aprender e usar.\",\n",
        "            \"A inteligência artificial (IA) é uma área da ciência da computação que se concentra no desenvolvimento de sistemas capazes de executar tarefas que normalmente requerem inteligência humana. Ela engloba campos como aprendizado de máquina, visão computacional e processamento de linguagem natural.\",\n",
        "            \"A aprendizagem de máquina (Machine Learning) é um subcampo da inteligência artificial que se concentra no desenvolvimento de algoritmos e modelos que permitem que os sistemas aprendam e melhorem com base em dados. É amplamente utilizado em previsões e análise de dados.\",\n",
        "            \"O Processamento de Linguagem Natural (NLP) é uma subárea da IA que se concentra na interação entre computadores e linguagem humana. É usado em chatbots, tradução automática e análise de sentimentos, entre outras aplicações.\",\n",
        "            \"O ACSO (Núcleo de Arquitetura de Computadores e Sistemas Operacionais), é um grupo de Pesquisa da UNEB, Universidade do Estado da Bahia\",\n",
        "            \"A Uneb é uma das maiores universidades da Bahia, multicampi e para todos.Atualmente, a universidade disponibiliza mais de 170 opções de cursos e habilitações nas modalidades presencial e de educação a distância (EaD),[4] nos níveis de graduação e pós-graduação, oferecidos nos 29 Departamentos. Vale destacar, nessa seara, o expressivo crescimento na oferta de cursos stricto sensu (mestrados e doutorados) nos últimos anos, em Salvador  e outras cidades, promovendo a interiorização da pós-graduação pública, gratuita e de qualidade.Além dos câmpus, a UNEB está presente na quase totalidade dos 417 municípios do estado, por intermédio de programas e ações extensionistas em convênio com organizações públicas e privadas, que beneficiam milhões de cidadãos baianos, a maioria pertencente a segmentos social e economicamente desfavorecidos e excluídos. Alfabetização e capacitação de jovens e adultos em situação de risco social; educação em assentamentos da reforma agrária e em comunidades indígenas e quilombolas; projetos de inclusão e valorização voltados para pessoas deficientes, da terceira idade, LGBT, entre outros, são algumas das iniciativas que aproximam a universidade da sociedade.A UNEB desenvolve também importantes pesquisas em todas as regiões em que atua. Alguns projetos trazem a marca da vanguarda acadêmica, a exemplo dos trabalhos nas áreas de robótica e de jogos eletrônicos pedagógicos, com os quais já conquistou premiações e o reconhecimento nacional e internacional. O corpo discente da instituição é estimulado a participar das pesquisas por meio de programas de iniciação científica e de concessão de bolsas de monitoria.Com o apoio de sua comunidade acadêmica, dos muitos parceiros e da sociedade, a UNEB reafirma, a cada dia, seu compromisso de continuar trilhando o caminho que alia a excelência acadêmica à sua missão social, contribuindo, assim, para o desenvolvimento socioeducacional e econômico da Bahia e do país.[3]\",\n",
        "            \"A BahiaRT é uma equipe multidisciplinar que inclui estudantes de engenharia, ciência da computação e design. A BahiaRT tem trabalhado em uma variedade de projetos de robótica, incluindo Bill, um robô de serviço humanoide. A equipe também está trabalhando em um robô de resgate que pode ser usado em situações de emergência. A BahiaRT é uma equipe ativa que está constantemente desenvolvendo novos projetos de robótica. A equipe está comprometida em usar a robótica para melhorar a vida das pessoas.\",\n",
        "            \"O Yolo é um algoritmo de AI, utilizado para detecção de pessoas e objetos, BILL utiliza esse algoritmo para executar tarefas relacionadas a isso\",\n",
        "            \"Robot Operating System é uma coleção de frameworks de software para desenvolvimento de robôs, que fornece a funcionalidade de um sistema operacional em um cluster de computadores heterogêneo\",\n",
        "             \"As redes neurais Transformers são uma arquitetura de rede neural profunda que se destacou no processamento de linguagem natural e em diversas outras áreas. Elas usam um mecanismo de atenção para capturar relações complexas entre elementos em uma sequência de dados, permitindo a modelagem eficaz de dependências de longo alcance. Essas redes são pré-treinadas em grandes conjuntos de dados, adquirindo amplo conhecimento da linguagem e, em seguida, finamente ajustadas para tarefas específicas com conjuntos de dados menores, tornando o transfer learning eficaz e acessível. Essa abordagem é amplamente aplicável, sendo usada com sucesso em tarefas de NLP, visão computacional, áudio e outros domínios, tornando-se uma das arquiteturas mais influentes na aprendizagem profunda.\",\n",
        "             \"A RoboCup é uma competição internacional de robótica que visa promover a pesquisa e o desenvolvimento de sistemas autônomos e inteligentes. Fundada em 1997, a competição tem como objetivo principal avançar a tecnologia de robôs autônomos, incentivando a inovação em áreas como visão computacional, aprendizado de máquina, planejamento de movimento e interação homem-máquina. A competição envolve diversas categorias, incluindo robôs que jogam futebol, realizam resgates em situações de desastre e executam tarefas domésticas. A RoboCup também serve como plataforma para promover a educação em robótica e inteligência artificial, envolvendo equipes de estudantes e pesquisadores de todo o mundo. Ela desempenha um papel crucial no avanço da robótica autônoma e na promoção da colaboração global na área.\",\n",
        "             \"Robôs de serviço representam uma categoria crescente e inovadora de autômatos projetados para desempenhar uma variedade de tarefas em ambientes domésticos, comerciais e industriais. Esses robôs são projetados para tornar a vida mais conveniente e eficiente, oferecendo assistência em diversas áreas, desde a limpeza e segurança até a entrega de alimentos em restaurantes.\"]\n",
        "})\n",
        "\n",
        "# Função para gerar texto usando o modelo fine-tunado\n",
        "def generate_text(prompt, model, tokenizer):\n",
        "    prompt_ids = tokenizer(prompt, return_tensors='pt').input_ids\n",
        "    generated_text = model.generate(prompt_ids, max_length=100, num_return_sequences=1, no_repeat_ngram_size=2)\n",
        "    return tokenizer.decode(generated_text[0], skip_special_tokens=True)\n",
        "\n",
        "# Função para calcular os scores BLEU\n",
        "def calculate_bleu_scores(model, tokenizer, test_df):\n",
        "    bleu_scores = []\n",
        "\n",
        "    for index, row in test_df.iterrows():\n",
        "        reference_text = row[\"text\"]\n",
        "        generated_text = generate_text(row[\"label\"], model, tokenizer)\n",
        "\n",
        "        reference_tokens = nltk.word_tokenize(reference_text)\n",
        "        generated_tokens = nltk.word_tokenize(generated_text)\n",
        "\n",
        "        # Calcula o BLEU Score para a referência e a previsão\n",
        "        bleu = sentence_bleu([reference_tokens], generated_tokens)\n",
        "\n",
        "        bleu_scores.append(bleu)\n",
        "\n",
        "    return bleu_scores\n",
        "\n",
        "# Avaliar o modelo e obter os scores BLEU\n",
        "model.eval()\n",
        "bleu_scores = calculate_bleu_scores(model, tokenizer, test_df)\n",
        "print(bleu_scores)\n",
        "\n",
        "# Plotar os scores BLEU em um gráfico\n",
        "labels = test_df[\"label\"]\n",
        "plt.figure(figsize=(12, 6))\n",
        "plt.bar(labels, bleu_scores)\n",
        "plt.xlabel(\"Rótulos\")\n",
        "plt.ylabel(\"BLEU Score\")\n",
        "plt.title(\"BLEU Score para Diferentes Rótulos\")\n",
        "plt.xticks(rotation=45, ha=\"right\")\n",
        "plt.show()\n"
      ],
      "metadata": {
        "colab": {
          "base_uri": "https://localhost:8080/",
          "height": 1000
        },
        "id": "Os-qOonOExAn",
        "outputId": "5c340980-37f0-43d2-fba9-cf9cfc1e70e9"
      },
      "execution_count": null,
      "outputs": [
        {
          "output_type": "stream",
          "name": "stderr",
          "text": [
            "[nltk_data] Downloading package punkt to /root/nltk_data...\n",
            "[nltk_data]   Package punkt is already up-to-date!\n",
            "The attention mask and the pad token id were not set. As a consequence, you may observe unexpected behavior. Please pass your input's `attention_mask` to obtain reliable results.\n",
            "Setting `pad_token_id` to `eos_token_id`:50256 for open-end generation.\n",
            "The attention mask and the pad token id were not set. As a consequence, you may observe unexpected behavior. Please pass your input's `attention_mask` to obtain reliable results.\n",
            "Setting `pad_token_id` to `eos_token_id`:50256 for open-end generation.\n",
            "The attention mask and the pad token id were not set. As a consequence, you may observe unexpected behavior. Please pass your input's `attention_mask` to obtain reliable results.\n",
            "Setting `pad_token_id` to `eos_token_id`:50256 for open-end generation.\n",
            "The attention mask and the pad token id were not set. As a consequence, you may observe unexpected behavior. Please pass your input's `attention_mask` to obtain reliable results.\n",
            "Setting `pad_token_id` to `eos_token_id`:50256 for open-end generation.\n",
            "The attention mask and the pad token id were not set. As a consequence, you may observe unexpected behavior. Please pass your input's `attention_mask` to obtain reliable results.\n",
            "Setting `pad_token_id` to `eos_token_id`:50256 for open-end generation.\n",
            "/usr/local/lib/python3.10/dist-packages/nltk/translate/bleu_score.py:552: UserWarning: \n",
            "The hypothesis contains 0 counts of 3-gram overlaps.\n",
            "Therefore the BLEU score evaluates to 0, independently of\n",
            "how many N-gram overlaps of lower order it contains.\n",
            "Consider using lower n-gram order or use SmoothingFunction()\n",
            "  warnings.warn(_msg)\n",
            "/usr/local/lib/python3.10/dist-packages/nltk/translate/bleu_score.py:552: UserWarning: \n",
            "The hypothesis contains 0 counts of 4-gram overlaps.\n",
            "Therefore the BLEU score evaluates to 0, independently of\n",
            "how many N-gram overlaps of lower order it contains.\n",
            "Consider using lower n-gram order or use SmoothingFunction()\n",
            "  warnings.warn(_msg)\n",
            "The attention mask and the pad token id were not set. As a consequence, you may observe unexpected behavior. Please pass your input's `attention_mask` to obtain reliable results.\n",
            "Setting `pad_token_id` to `eos_token_id`:50256 for open-end generation.\n",
            "/usr/local/lib/python3.10/dist-packages/nltk/translate/bleu_score.py:552: UserWarning: \n",
            "The hypothesis contains 0 counts of 2-gram overlaps.\n",
            "Therefore the BLEU score evaluates to 0, independently of\n",
            "how many N-gram overlaps of lower order it contains.\n",
            "Consider using lower n-gram order or use SmoothingFunction()\n",
            "  warnings.warn(_msg)\n",
            "The attention mask and the pad token id were not set. As a consequence, you may observe unexpected behavior. Please pass your input's `attention_mask` to obtain reliable results.\n",
            "Setting `pad_token_id` to `eos_token_id`:50256 for open-end generation.\n",
            "The attention mask and the pad token id were not set. As a consequence, you may observe unexpected behavior. Please pass your input's `attention_mask` to obtain reliable results.\n",
            "Setting `pad_token_id` to `eos_token_id`:50256 for open-end generation.\n",
            "The attention mask and the pad token id were not set. As a consequence, you may observe unexpected behavior. Please pass your input's `attention_mask` to obtain reliable results.\n",
            "Setting `pad_token_id` to `eos_token_id`:50256 for open-end generation.\n",
            "The attention mask and the pad token id were not set. As a consequence, you may observe unexpected behavior. Please pass your input's `attention_mask` to obtain reliable results.\n",
            "Setting `pad_token_id` to `eos_token_id`:50256 for open-end generation.\n",
            "The attention mask and the pad token id were not set. As a consequence, you may observe unexpected behavior. Please pass your input's `attention_mask` to obtain reliable results.\n",
            "Setting `pad_token_id` to `eos_token_id`:50256 for open-end generation.\n",
            "The attention mask and the pad token id were not set. As a consequence, you may observe unexpected behavior. Please pass your input's `attention_mask` to obtain reliable results.\n",
            "Setting `pad_token_id` to `eos_token_id`:50256 for open-end generation.\n",
            "The attention mask and the pad token id were not set. As a consequence, you may observe unexpected behavior. Please pass your input's `attention_mask` to obtain reliable results.\n",
            "Setting `pad_token_id` to `eos_token_id`:50256 for open-end generation.\n",
            "The attention mask and the pad token id were not set. As a consequence, you may observe unexpected behavior. Please pass your input's `attention_mask` to obtain reliable results.\n",
            "Setting `pad_token_id` to `eos_token_id`:50256 for open-end generation.\n"
          ]
        },
        {
          "output_type": "stream",
          "name": "stdout",
          "text": [
            "[0.0384787482721271, 0.7581396132781355, 0.2981531237267973, 0.11662752930835805, 3.163078396268057e-155, 2.1038924219686138e-248, 0.9607894391523232, 1.2440406169230686e-237, 0.13819104523503795, 0.759907656827929, 0.8921154410192976, 2.5585421000593613e-285, 0.08468706623884811, 6.659806671546155e-156]\n"
          ]
        },
        {
          "output_type": "display_data",
          "data": {
            "text/plain": [
              "<Figure size 1200x600 with 1 Axes>"
            ],
            "image/png": "[encoded data removed]"
          },
          "metadata": {}
        }
      ]
    },
    {
      "cell_type": "markdown",
      "source": [
        "# **QA com BERT**"
      ],
      "metadata": {
        "id": "cLMn2evCPhFE"
      }
    },
    {
      "cell_type": "code",
      "source": [
        "from tensorboard import notebook\n",
        "notebook.list()"
      ],
      "metadata": {
        "colab": {
          "base_uri": "https://localhost:8080/"
        },
        "id": "37PR8BJsiHk3",
        "outputId": "9718dba4-765b-4494-d4f5-cb687af2b85b"
      },
      "execution_count": 9,
      "outputs": [
        {
          "output_type": "stream",
          "name": "stdout",
          "text": [
            "No known TensorBoard instances running.\n"
          ]
        }
      ]
    },
    {
      "cell_type": "code",
      "source": [
        "!kill 15404"
      ],
      "metadata": {
        "colab": {
          "base_uri": "https://localhost:8080/"
        },
        "id": "HRHsNZVokOD0",
        "outputId": "28d10f91-1b0f-4678-a4f1-c4bf17de3d1d"
      },
      "execution_count": 10,
      "outputs": [
        {
          "output_type": "stream",
          "name": "stdout",
          "text": [
            "/bin/bash: line 1: kill: (15404) - No such process\n"
          ]
        }
      ]
    },
    {
      "cell_type": "code",
      "source": [
        "notebook.display(port=6006, height=1000)"
      ],
      "metadata": {
        "colab": {
          "base_uri": "https://localhost:8080/",
          "height": 1000
        },
        "id": "BWwo2mEUiSKD",
        "outputId": "096f5bdf-9b56-459c-84d6-448c743f625e"
      },
      "execution_count": 11,
      "outputs": [
        {
          "output_type": "display_data",
          "data": {
            "text/plain": [
              "<IPython.core.display.Javascript object>"
            ],
            "application/javascript": [
              "\n",
              "        (async () => {\n",
              "            const url = new URL(await google.colab.kernel.proxyPort(6006, {'cache': true}));\n",
              "            url.searchParams.set('tensorboardColab', 'true');\n",
              "            const iframe = document.createElement('iframe');\n",
              "            iframe.src = url;\n",
              "            iframe.setAttribute('width', '100%');\n",
              "            iframe.setAttribute('height', '1000');\n",
              "            iframe.setAttribute('frameborder', 0);\n",
              "            document.body.appendChild(iframe);\n",
              "        })();\n",
              "    "
            ]
          },
          "metadata": {}
        }
      ]
    },
    {
      "cell_type": "code",
      "source": [
        "!tensorboard dev upload \\\n",
        "  --logdir \"/content/runs\" \\\n",
        "  --name \"(BertQA2)\" \\\n",
        "  --description \"BertQA for Robotics\" \\\n",
        "  --one_shot"
      ],
      "metadata": {
        "id": "mEoAvDaqewZt",
        "colab": {
          "base_uri": "https://localhost:8080/"
        },
        "outputId": "25401ed8-1627-4768-8c3d-d37d7d126b8f"
      },
      "execution_count": 14,
      "outputs": [
        {
          "output_type": "stream",
          "name": "stdout",
          "text": [
            "2023-10-24 02:55:03.491633: E tensorflow/compiler/xla/stream_executor/cuda/cuda_dnn.cc:9342] Unable to register cuDNN factory: Attempting to register factory for plugin cuDNN when one has already been registered\n",
            "2023-10-24 02:55:03.491716: E tensorflow/compiler/xla/stream_executor/cuda/cuda_fft.cc:609] Unable to register cuFFT factory: Attempting to register factory for plugin cuFFT when one has already been registered\n",
            "2023-10-24 02:55:03.491831: E tensorflow/compiler/xla/stream_executor/cuda/cuda_blas.cc:1518] Unable to register cuBLAS factory: Attempting to register factory for plugin cuBLAS when one has already been registered\n",
            "2023-10-24 02:55:05.596202: W tensorflow/compiler/tf2tensorrt/utils/py_utils.cc:38] TF-TRT Warning: Could not find TensorRT\n",
            "\n",
            "****************************************************************\n",
            "****************************************************************\n",
            "****************************************************************\n",
            "\n",
            "NOTICE - ACTION REQUIRED: TensorBoard.dev is shutting down.\n",
            "\n",
            "Please export your experiments by Dec 31, 2023.\n",
            "\n",
            "See the FAQ at https://tensorboard.dev.\n",
            "\n",
            "****************************************************************\n",
            "****************************************************************\n",
            "****************************************************************\n",
            "\n",
            "Traceback (most recent call last):\n",
            "  File \"/usr/local/bin/tensorboard\", line 8, in <module>\n",
            "    sys.exit(run_main())\n",
            "  File \"/usr/local/lib/python3.10/dist-packages/tensorboard/main.py\", line 46, in run_main\n",
            "    app.run(tensorboard.main, flags_parser=tensorboard.configure)\n",
            "  File \"/usr/local/lib/python3.10/dist-packages/absl/app.py\", line 308, in run\n",
            "    _run_main(main, args)\n",
            "  File \"/usr/local/lib/python3.10/dist-packages/absl/app.py\", line 254, in _run_main\n",
            "    sys.exit(main(argv))\n",
            "  File \"/usr/local/lib/python3.10/dist-packages/tensorboard/program.py\", line 276, in main\n",
            "    return runner(self.flags) or 0\n",
            "  File \"/usr/local/lib/python3.10/dist-packages/tensorboard/uploader/uploader_subcommand.py\", line 691, in run\n",
            "    return _run(flags, self._experiment_url_callback)\n",
            "  File \"/usr/local/lib/python3.10/dist-packages/tensorboard/uploader/uploader_subcommand.py\", line 124, in _run\n",
            "    intent.execute(server_info, channel)\n",
            "  File \"/usr/local/lib/python3.10/dist-packages/tensorboard/uploader/uploader_subcommand.py\", line 461, in execute\n",
            "    experiment_id = uploader.create_experiment()\n",
            "  File \"/usr/local/lib/python3.10/dist-packages/tensorboard/uploader/uploader.py\", line 179, in create_experiment\n",
            "    response = grpc_util.call_with_retries(\n",
            "  File \"/usr/local/lib/python3.10/dist-packages/tensorboard/util/grpc_util.py\", line 232, in call_with_retries\n",
            "    return api_method(\n",
            "  File \"/usr/local/lib/python3.10/dist-packages/grpc/_channel.py\", line 1161, in __call__\n",
            "    return _end_unary_response_blocking(state, call, False, None)\n",
            "  File \"/usr/local/lib/python3.10/dist-packages/grpc/_channel.py\", line 1004, in _end_unary_response_blocking\n",
            "    raise _InactiveRpcError(state)  # pytype: disable=not-instantiable\n",
            "grpc._channel._InactiveRpcError: <_InactiveRpcError of RPC that terminated with:\n",
            "\tstatus = StatusCode.PERMISSION_DENIED\n",
            "\tdetails = \"New users are not allowed for TensorBoard.dev. TensorBoard.dev is shutting down. See the FAQ at https://tensorboard.dev.\"\n",
            "\tdebug_error_string = \"UNKNOWN:Error received from peer ipv4:34.95.66.171:443 {created_time:\"2023-10-24T02:55:08.577295886+00:00\", grpc_status:7, grpc_message:\"New users are not allowed for TensorBoard.dev. TensorBoard.dev is shutting down. See the FAQ at https://tensorboard.dev.\"}\"\n",
            ">\n"
          ]
        }
      ]
    },
    {
      "cell_type": "code",
      "source": [
        "%load_ext tensorboard\n",
        "%tensorboard --logdir=runs"
      ],
      "metadata": {
        "colab": {
          "base_uri": "https://localhost:8080/",
          "height": 873
        },
        "id": "c2IoIq_odw_p",
        "outputId": "da11f97c-effa-4b7f-a620-b3b417d26df6"
      },
      "execution_count": 16,
      "outputs": [
        {
          "output_type": "stream",
          "name": "stdout",
          "text": [
            "The tensorboard extension is already loaded. To reload it, use:\n",
            "  %reload_ext tensorboard\n"
          ]
        },
        {
          "output_type": "display_data",
          "data": {
            "text/plain": [
              "Reusing TensorBoard on port 6006 (pid 3067), started 0:01:31 ago. (Use '!kill 3067' to kill it.)"
            ]
          },
          "metadata": {}
        },
        {
          "output_type": "display_data",
          "data": {
            "text/plain": [
              "<IPython.core.display.Javascript object>"
            ],
            "application/javascript": [
              "\n",
              "        (async () => {\n",
              "            const url = new URL(await google.colab.kernel.proxyPort(6006, {'cache': true}));\n",
              "            url.searchParams.set('tensorboardColab', 'true');\n",
              "            const iframe = document.createElement('iframe');\n",
              "            iframe.src = url;\n",
              "            iframe.setAttribute('width', '100%');\n",
              "            iframe.setAttribute('height', '800');\n",
              "            iframe.setAttribute('frameborder', 0);\n",
              "            document.body.appendChild(iframe);\n",
              "        })();\n",
              "    "
            ]
          },
          "metadata": {}
        }
      ]
    },
    {
      "cell_type": "code",
      "source": [
        "import pandas as pd\n",
        "import torch\n",
        "import torch.nn as nn\n",
        "from transformers import DistilBertForQuestionAnswering, DistilBertTokenizer\n",
        "from sklearn.model_selection import train_test_split\n",
        "import nltk\n",
        "nltk.download('punkt')\n",
        "from nltk.translate.bleu_score import sentence_bleu\n",
        "from nltk.tokenize import word_tokenize\n",
        "import matplotlib.pyplot as plt  # Importe a biblioteca Matplotlib\n",
        "\n",
        "# Crie o conjunto de dados de perguntas e respostas sobre Valorant.\n",
        "# Triplique o conjunto de dados sobre Valorant.\n",
        "df = pd.DataFrame({\n",
        "    \"Pergunta\": [\n",
        "        \"Como funcionam os robôs autônomos na indústria?\",\n",
        "        \"Quais são os sensores mais comuns em robótica?\",\n",
        "        \"Qual é a história da robótica industrial?\",\n",
        "        \"Quais são as estratégias de navegação em robôs móveis?\",\n",
        "        \"Qual é o melhor design para um robô de serviço?\",\n",
        "        \"Como usar efetivamente a visão computacional em robótica?\",\n",
        "        \"Quais são as diferenças entre robôs industriais e robôs colaborativos?\",\n",
        "        \"Como funciona o aprendizado de máquina em robótica?\",\n",
        "        \"Quais são as habilidades de um robô autônomo?\",\n",
        "        \"Como economizar energia em robôs móveis?\",\n",
        "        \"Quais são os melhores algoritmos de localização para robôs?\",\n",
        "        \"Como prever o comportamento de robôs em ambientes dinâmicos?\",\n",
        "        \"Quais são as estratégias para otimizar a produção em robótica industrial?\",\n",
        "        \"Qual é a função de um manipulador robótico?\",\n",
        "        \"Quais são os melhores atuadores para movimento em robótica?\",\n",
        "        \"Como usar os sensores táteis em robótica de forma eficaz?\",\n",
        "        \"Quais são as dicas para programar robôs colaborativos?\",\n",
        "        \"Como identificar a melhor solução robótica para uma tarefa específica?\",\n",
        "        \"Quais são as características de uma interface homem-máquina eficaz em robótica?\",\n",
        "        \"Como funciona o sistema de simulação em robótica?\"\n",
        "    ],\n",
        "    \"Resposta\": [\n",
        "        \"Os robôs autônomos na indústria operam de forma independente, tomando decisões com base em sensores e algoritmos.\",\n",
        "        \"Sensores comuns em robótica incluem câmeras, sensores de proximidade e sensores inerciais.\",\n",
        "        \"A história da robótica industrial remonta a meados do século 20, com o surgimento dos primeiros robôs industriais.\",\n",
        "        \"Estratégias de navegação em robôs móveis podem envolver SLAM (Simultaneous Localization and Mapping) e planejamento de trajetória.\",\n",
        "        \"O design de um robô de serviço depende da aplicação, com considerações de mobilidade, alcance e carga útil.\",\n",
        "        \"A visão computacional é essencial para a percepção visual em robótica, permitindo que os robôs entendam o ambiente.\",\n",
        "        \"Robôs industriais são usados em ambientes de produção, enquanto robôs colaborativos interagem com humanos de forma segura.\",\n",
        "        \"O aprendizado de máquina em robótica permite que os robôs aprendam e melhorem suas habilidades com o tempo.\",\n",
        "        \"Habilidades de um robô autônomo incluem navegação, interação com objetos e tomada de decisões baseada em dados.\",\n",
        "        \"Economizar energia em robôs móveis envolve otimização de baterias e uso eficiente de recursos.\",\n",
        "        \"Algoritmos de localização, como o filtro de partículas, são usados para determinar a posição de um robô em um ambiente.\",\n",
        "        \"Prever o comportamento de robôs em ambientes dinâmicos requer modelagem e planejamento avançado.\",\n",
        "        \"Estratégias de otimização de produção na robótica industrial visam aumentar a eficiência e a qualidade da produção.\",\n",
        "        \"Um manipulador robótico é responsável por realizar tarefas de manipulação, como pegar e mover objetos.\",\n",
        "        \"Atuadores, como motores elétricos e pneumáticos, são usados para criar movimento em robôs.\",\n",
        "        \"Sensores táteis permitem que os robôs detectem e respondam ao toque e à pressão em suas superfícies.\",\n",
        "        \"Programar robôs colaborativos requer considerações de segurança e interface de usuário intuitiva.\",\n",
        "        \"Escolher a melhor solução robótica envolve avaliar requisitos, orçamento e aplicação específica.\",\n",
        "        \"Uma interface homem-máquina eficaz facilita a interação entre humanos e robôs de forma intuitiva.\",\n",
        "        \"Sistemas de simulação em robótica permitem testar algoritmos e comportamento de robôs em ambientes virtuais.\"\n",
        "    ],\n",
        "    \"Texto\": [\n",
        "        \"Os robôs autônomos são essenciais para a automação industrial e a eficiência de processos.\",\n",
        "        \"Sensores desempenham um papel fundamental na percepção do ambiente por parte dos robôs.\",\n",
        "        \"A robótica industrial tem evoluído ao longo das décadas, transformando a produção em muitas indústrias.\",\n",
        "        \"A navegação precisa é crucial para robôs móveis que operam em ambientes dinâmicos.\",\n",
        "        \"O design de robôs de serviço varia de acordo com as necessidades da tarefa a ser executada.\",\n",
        "        \"A visão computacional permite que os robôs interpretem informações visuais de seu ambiente.\",\n",
        "        \"Robôs colaborativos estão se tornando cada vez mais comuns em ambientes de trabalho compartilhados.\",\n",
        "        \"O aprendizado de máquina capacita os robôs a melhorarem suas habilidades com base em experiências passadas.\",\n",
        "        \"Robôs autônomos podem executar uma ampla gama de tarefas, desde navegação até reconhecimento de objetos.\",\n",
        "        \"A eficiência energética é fundamental para prolongar a autonomia dos robôs móveis.\",\n",
        "        \"Algoritmos de localização desempenham um papel fundamental na navegação precisa de robôs.\",\n",
        "        \"Prever o comportamento de robôs é importante para a segurança e o desempenho em ambientes dinâmicos.\",\n",
        "        \"A otimização da produção é um objetivo-chave na automação industrial com robôs.\",\n",
        "        \"Manipuladores robóticos desempenham um papel importante na montagem e na manipulação de objetos.\",\n",
        "        \"Atuadores são os motores que conferem movimento e ação aos robôs.\",\n",
        "        \"Sensores táteis permitem que os robôs percebam e reajam a interações físicas com o ambiente.\",\n",
        "        \"Programar robôs colaborativos envolve garantir que eles possam interagir com segurança com humanos.\",\n",
        "        \"Escolher a solução robótica certa é crucial para atender às necessidades específicas da aplicação.\",\n",
        "        \"Uma interface homem-máquina eficaz facilita a operação e a colaboração entre humanos e robôs.\",\n",
        "        \"A simulação é uma ferramenta valiosa para o desenvolvimento e teste de algoritmos robóticos.\"\n",
        "    ]\n",
        "})\n",
        "\n",
        "# Concatene o DataFrame original várias vezes para aumentar a quantidade de dados\n",
        "n_copies = 20  # Defina o número de vezes que você deseja replicar o DataFrame\n",
        "df = pd.concat([df] * n_copies, ignore_index=True)\n",
        "\n",
        "# Dividir o conjunto de dados em treinamento, validação e teste\n",
        "train_df, temp_df = train_test_split(df, test_size=0.1, random_state=42)\n",
        "validation_df, test_df = train_test_split(temp_df, test_size=0.5, random_state=42)\n",
        "\n",
        "# Importe o modelo DistilBERT e o tokenizer.\n",
        "model = DistilBertForQuestionAnswering.from_pretrained(\"distilbert-base-uncased-distilled-squad\")\n",
        "tokenizer = DistilBertTokenizer.from_pretrained(\"distilbert-base-uncased-distilled-squad\")\n",
        "\n",
        "# Adicione dropout ao modelo\n",
        "dropout_prob = 0.3  # Defina a probabilidade de dropout (ajuste conforme necessário)\n",
        "model.distilbert.transformer.layer[-1].output = nn.Sequential(\n",
        "    nn.Dropout(dropout_prob),\n",
        "    nn.Linear(model.config.dim, model.config.dim),\n",
        "    nn.ReLU(),\n",
        "    nn.Dropout(dropout_prob),\n",
        "    nn.Linear(model.config.dim, model.config.num_labels)\n",
        ")\n",
        "\n",
        "# Faça o ajuste fino (fine-tuning).\n",
        "train_context = train_df[\"Texto\"]\n",
        "train_questions = train_df[\"Pergunta\"]\n",
        "train_answers = train_df[\"Resposta\"]\n",
        "\n",
        "optimizer = torch.optim.AdamW(model.parameters(), lr=1e-5)  # Reduzindo a taxa de aprendizado\n",
        "epochs = 200\n",
        "\n",
        "# Listas para armazenar métricas de treinamento e validação\n",
        "train_losses = []\n",
        "validation_losses = []\n",
        "accuracies = []\n",
        "\n",
        "for epoch in range(epochs):\n",
        "    model.train()\n",
        "    total_loss = 0.0  # Inicializa a perda total da época como zero\n",
        "\n",
        "    for i in range(len(train_context)):\n",
        "        inputs = tokenizer(train_questions.iloc[i], train_context.iloc[i], return_tensors=\"pt\", padding=True, truncation=True)\n",
        "        outputs = model(**inputs)\n",
        "        start_scores = outputs.start_logits\n",
        "        end_scores = outputs.end_logits\n",
        "\n",
        "        # Calcule a perda com base nas pontuações de início e fim\n",
        "        loss =  end_scores.mean() + start_scores.mean()\n",
        "        total_loss += loss.item()\n",
        "\n",
        "        # Retropropagação e otimização\n",
        "        optimizer.zero_grad()  # Zera os gradientes antes de retropropagar\n",
        "        loss.backward()\n",
        "        optimizer.step()\n",
        "\n",
        "    # Calcule a perda média da época\n",
        "    average_loss = total_loss / len(train_context)\n",
        "    train_losses.append(average_loss)  # Adicione a perda à lista de treinamento\n",
        "    print(f\"Época {epoch + 1}/{epochs}, Perda: {average_loss:.4f}\")\n",
        "\n",
        "    # Valide o modelo no conjunto de validação\n",
        "    val_context = validation_df[\"Texto\"]\n",
        "    val_questions = validation_df[\"Pergunta\"]\n",
        "    val_answers = validation_df[\"Resposta\"]\n",
        "\n",
        "    token_f1_scores = []\n",
        "    bleu_scores = []\n",
        "\n",
        "    for i, val_question in enumerate(val_questions):\n",
        "        model.eval()  # Mude para o modo de avaliação\n",
        "        inputs = tokenizer(val_question, val_context.iloc[i], return_tensors=\"pt\", padding=True, truncation=True)\n",
        "        outputs = model(**inputs)\n",
        "        start_scores = outputs.start_logits\n",
        "        end_scores = outputs.end_logits\n",
        "\n",
        "        # Encontre o índice da resposta prevista\n",
        "        answer_start = start_scores.argmax()\n",
        "        answer_end = end_scores.argmax()\n",
        "\n",
        "        # Obtenha a resposta prevista\n",
        "        predicted_answer = tokenizer.decode(inputs[\"input_ids\"][0][answer_start:answer_end + 1])\n",
        "\n",
        "        # Compare com a resposta real e calcule métricas\n",
        "        true_answer = val_answers.iloc[i]\n",
        "\n",
        "        # Calcule o token-level F1-score\n",
        "        predicted_tokens = word_tokenize(predicted_answer)\n",
        "        true_tokens = word_tokenize(true_answer)\n",
        "        common_tokens = set(predicted_tokens) & set(true_tokens)\n",
        "        precision = len(common_tokens) / (len(predicted_tokens) + 1e-10)\n",
        "        recall = len(common_tokens) / (len(true_tokens) + 1e-10)\n",
        "        f1 = 2 * (precision * recall) / (precision + recall + 1e-10)\n",
        "\n",
        "        # Calcule a BLEU score\n",
        "        bleu = sentence_bleu([true_tokens], predicted_tokens)\n",
        "\n",
        "        token_f1_scores.append(f1)\n",
        "        bleu_scores.append(bleu)\n",
        "\n",
        "        # Calcule a acurácia (pode personalizar essa métrica)\n",
        "        accuracy = 1.0 if predicted_answer == true_answer else 0.0\n",
        "        accuracies.append(accuracy)\n",
        "\n",
        "        print(f\"Pergunta de validação após a época {epoch + 1}:\")\n",
        "        print(f\"Pergunta: {val_question}\")\n",
        "        print(f\"Resposta Real: {true_answer}\")\n",
        "        print(f\"Resposta Prevista: {predicted_answer}\")\n",
        "        print(f\"Token-level F1-score: {f1:.4f}\")\n",
        "        print(f\"BLEU Score: {bleu:.4f}\")\n",
        "        print(f\"Acurácia: {accuracy}\\n\")\n",
        "\n",
        "    # Calcule as métricas de validação\n",
        "    average_token_f1 = sum(token_f1_scores) / len(token_f1_scores)\n",
        "    average_bleu = sum(bleu_scores) / len(bleu_scores)\n",
        "    accuracy = sum(accuracies) / len(accuracies)\n",
        "\n",
        "    validation_losses.append(average_loss)  # Adicione a perda à lista de validação\n",
        "    print(f\"Métricas de Validação após a época {epoch + 1}:\")\n",
        "    print(f\"Token-level F1-score: {average_token_f1:.4f}\")\n",
        "    print(f\"BLEU Score: {average_bleu:.4f}\")\n",
        "    print(f\"Acurácia Média: {accuracy:.4f}\")\n",
        "\n",
        "    # Salve o modelo a cada 20 épocas\n",
        "    if (epoch + 1) % 20 == 0:\n",
        "        model.save_pretrained(f\"valorant_qa_model_epoch{epoch + 1}\")\n",
        "        tokenizer.save_pretrained(f\"valorant_qa_model_epoch{epoch + 1}\")\n",
        "\n",
        "# Plote gráficos de perda e acurácia\n",
        "plt.figure(figsize=(12, 5))\n",
        "plt.subplot(1, 2, 1)\n",
        "plt.plot(range(1, epochs + 1), train_losses, label=\"Treinamento\")\n",
        "plt.plot(range(1, epochs + 1), validation_losses, label=\"Validação\")\n",
        "plt.xlabel(\"Época\")\n",
        "plt.ylabel(\"Perda\")\n",
        "plt.title(\"Curva de Aprendizado - Perda\")\n",
        "plt.legend()\n",
        "plt.grid()\n",
        "\n",
        "plt.subplot(1, 2, 2)\n",
        "plt.plot(range(1, epochs + 1), accuracies, label=\"Acurácia\")\n",
        "plt.xlabel(\"Época\")\n",
        "plt.ylabel(\"Acurácia\")\n",
        "plt.title(\"Curva de Aprendizado - Acurácia\")\n",
        "plt.legend()\n",
        "plt.grid()\n",
        "\n",
        "plt.tight_layout()\n",
        "plt.show()\n"
      ],
      "metadata": {
        "colab": {
          "base_uri": "https://localhost:8080/",
          "height": 442
        },
        "id": "2L7ddtG9KdDH",
        "outputId": "488291d8-b13d-43d4-a45e-d61c220d5b97"
      },
      "execution_count": 39,
      "outputs": [
        {
          "output_type": "stream",
          "name": "stderr",
          "text": [
            "[nltk_data] Downloading package punkt to /root/nltk_data...\n",
            "[nltk_data]   Package punkt is already up-to-date!\n"
          ]
        },
        {
          "output_type": "error",
          "ename": "KeyboardInterrupt",
          "evalue": "ignored",
          "traceback": [
            "\u001b[0;31m---------------------------------------------------------------------------\u001b[0m",
            "\u001b[0;31mKeyboardInterrupt\u001b[0m                         Traceback (most recent call last)",
            "\u001b[0;32m<ipython-input-39-68b8294df70d>\u001b[0m in \u001b[0;36m<cell line: 118>\u001b[0;34m()\u001b[0m\n\u001b[1;32m    133\u001b[0m         \u001b[0moptimizer\u001b[0m\u001b[0;34m.\u001b[0m\u001b[0mzero_grad\u001b[0m\u001b[0;34m(\u001b[0m\u001b[0;34m)\u001b[0m  \u001b[0;31m# Zera os gradientes antes de retropropagar\u001b[0m\u001b[0;34m\u001b[0m\u001b[0;34m\u001b[0m\u001b[0m\n\u001b[1;32m    134\u001b[0m         \u001b[0mloss\u001b[0m\u001b[0;34m.\u001b[0m\u001b[0mbackward\u001b[0m\u001b[0;34m(\u001b[0m\u001b[0;34m)\u001b[0m\u001b[0;34m\u001b[0m\u001b[0;34m\u001b[0m\u001b[0m\n\u001b[0;32m--> 135\u001b[0;31m         \u001b[0moptimizer\u001b[0m\u001b[0;34m.\u001b[0m\u001b[0mstep\u001b[0m\u001b[0;34m(\u001b[0m\u001b[0;34m)\u001b[0m\u001b[0;34m\u001b[0m\u001b[0;34m\u001b[0m\u001b[0m\n\u001b[0m\u001b[1;32m    136\u001b[0m \u001b[0;34m\u001b[0m\u001b[0m\n\u001b[1;32m    137\u001b[0m     \u001b[0;31m# Calcule a perda média da época\u001b[0m\u001b[0;34m\u001b[0m\u001b[0;34m\u001b[0m\u001b[0m\n",
            "\u001b[0;32m/usr/local/lib/python3.10/dist-packages/torch/optim/optimizer.py\u001b[0m in \u001b[0;36mwrapper\u001b[0;34m(*args, **kwargs)\u001b[0m\n\u001b[1;32m    371\u001b[0m                             )\n\u001b[1;32m    372\u001b[0m \u001b[0;34m\u001b[0m\u001b[0m\n\u001b[0;32m--> 373\u001b[0;31m                 \u001b[0mout\u001b[0m \u001b[0;34m=\u001b[0m \u001b[0mfunc\u001b[0m\u001b[0;34m(\u001b[0m\u001b[0;34m*\u001b[0m\u001b[0margs\u001b[0m\u001b[0;34m,\u001b[0m \u001b[0;34m**\u001b[0m\u001b[0mkwargs\u001b[0m\u001b[0;34m)\u001b[0m\u001b[0;34m\u001b[0m\u001b[0;34m\u001b[0m\u001b[0m\n\u001b[0m\u001b[1;32m    374\u001b[0m                 \u001b[0mself\u001b[0m\u001b[0;34m.\u001b[0m\u001b[0m_optimizer_step_code\u001b[0m\u001b[0;34m(\u001b[0m\u001b[0;34m)\u001b[0m\u001b[0;34m\u001b[0m\u001b[0;34m\u001b[0m\u001b[0m\n\u001b[1;32m    375\u001b[0m \u001b[0;34m\u001b[0m\u001b[0m\n",
            "\u001b[0;32m/usr/local/lib/python3.10/dist-packages/torch/optim/optimizer.py\u001b[0m in \u001b[0;36m_use_grad\u001b[0;34m(self, *args, **kwargs)\u001b[0m\n\u001b[1;32m     74\u001b[0m             \u001b[0mtorch\u001b[0m\u001b[0;34m.\u001b[0m\u001b[0mset_grad_enabled\u001b[0m\u001b[0;34m(\u001b[0m\u001b[0mself\u001b[0m\u001b[0;34m.\u001b[0m\u001b[0mdefaults\u001b[0m\u001b[0;34m[\u001b[0m\u001b[0;34m'differentiable'\u001b[0m\u001b[0;34m]\u001b[0m\u001b[0;34m)\u001b[0m\u001b[0;34m\u001b[0m\u001b[0;34m\u001b[0m\u001b[0m\n\u001b[1;32m     75\u001b[0m             \u001b[0mtorch\u001b[0m\u001b[0;34m.\u001b[0m\u001b[0m_dynamo\u001b[0m\u001b[0;34m.\u001b[0m\u001b[0mgraph_break\u001b[0m\u001b[0;34m(\u001b[0m\u001b[0;34m)\u001b[0m\u001b[0;34m\u001b[0m\u001b[0;34m\u001b[0m\u001b[0m\n\u001b[0;32m---> 76\u001b[0;31m             \u001b[0mret\u001b[0m \u001b[0;34m=\u001b[0m \u001b[0mfunc\u001b[0m\u001b[0;34m(\u001b[0m\u001b[0mself\u001b[0m\u001b[0;34m,\u001b[0m \u001b[0;34m*\u001b[0m\u001b[0margs\u001b[0m\u001b[0;34m,\u001b[0m \u001b[0;34m**\u001b[0m\u001b[0mkwargs\u001b[0m\u001b[0;34m)\u001b[0m\u001b[0;34m\u001b[0m\u001b[0;34m\u001b[0m\u001b[0m\n\u001b[0m\u001b[1;32m     77\u001b[0m         \u001b[0;32mfinally\u001b[0m\u001b[0;34m:\u001b[0m\u001b[0;34m\u001b[0m\u001b[0;34m\u001b[0m\u001b[0m\n\u001b[1;32m     78\u001b[0m             \u001b[0mtorch\u001b[0m\u001b[0;34m.\u001b[0m\u001b[0m_dynamo\u001b[0m\u001b[0;34m.\u001b[0m\u001b[0mgraph_break\u001b[0m\u001b[0;34m(\u001b[0m\u001b[0;34m)\u001b[0m\u001b[0;34m\u001b[0m\u001b[0;34m\u001b[0m\u001b[0m\n",
            "\u001b[0;32m/usr/local/lib/python3.10/dist-packages/torch/optim/adamw.py\u001b[0m in \u001b[0;36mstep\u001b[0;34m(self, closure)\u001b[0m\n\u001b[1;32m    182\u001b[0m             )\n\u001b[1;32m    183\u001b[0m \u001b[0;34m\u001b[0m\u001b[0m\n\u001b[0;32m--> 184\u001b[0;31m             adamw(\n\u001b[0m\u001b[1;32m    185\u001b[0m                 \u001b[0mparams_with_grad\u001b[0m\u001b[0;34m,\u001b[0m\u001b[0;34m\u001b[0m\u001b[0;34m\u001b[0m\u001b[0m\n\u001b[1;32m    186\u001b[0m                 \u001b[0mgrads\u001b[0m\u001b[0;34m,\u001b[0m\u001b[0;34m\u001b[0m\u001b[0;34m\u001b[0m\u001b[0m\n",
            "\u001b[0;32m/usr/local/lib/python3.10/dist-packages/torch/optim/adamw.py\u001b[0m in \u001b[0;36madamw\u001b[0;34m(params, grads, exp_avgs, exp_avg_sqs, max_exp_avg_sqs, state_steps, foreach, capturable, differentiable, fused, grad_scale, found_inf, amsgrad, beta1, beta2, lr, weight_decay, eps, maximize)\u001b[0m\n\u001b[1;32m    333\u001b[0m         \u001b[0mfunc\u001b[0m \u001b[0;34m=\u001b[0m \u001b[0m_single_tensor_adamw\u001b[0m\u001b[0;34m\u001b[0m\u001b[0;34m\u001b[0m\u001b[0m\n\u001b[1;32m    334\u001b[0m \u001b[0;34m\u001b[0m\u001b[0m\n\u001b[0;32m--> 335\u001b[0;31m     func(\n\u001b[0m\u001b[1;32m    336\u001b[0m         \u001b[0mparams\u001b[0m\u001b[0;34m,\u001b[0m\u001b[0;34m\u001b[0m\u001b[0;34m\u001b[0m\u001b[0m\n\u001b[1;32m    337\u001b[0m         \u001b[0mgrads\u001b[0m\u001b[0;34m,\u001b[0m\u001b[0;34m\u001b[0m\u001b[0;34m\u001b[0m\u001b[0m\n",
            "\u001b[0;32m/usr/local/lib/python3.10/dist-packages/torch/optim/adamw.py\u001b[0m in \u001b[0;36m_single_tensor_adamw\u001b[0;34m(params, grads, exp_avgs, exp_avg_sqs, max_exp_avg_sqs, state_steps, grad_scale, found_inf, amsgrad, beta1, beta2, lr, weight_decay, eps, maximize, capturable, differentiable)\u001b[0m\n\u001b[1;32m    411\u001b[0m         \u001b[0;31m# Decay the first and second moment running average coefficient\u001b[0m\u001b[0;34m\u001b[0m\u001b[0;34m\u001b[0m\u001b[0m\n\u001b[1;32m    412\u001b[0m         \u001b[0mexp_avg\u001b[0m\u001b[0;34m.\u001b[0m\u001b[0mlerp_\u001b[0m\u001b[0;34m(\u001b[0m\u001b[0mgrad\u001b[0m\u001b[0;34m,\u001b[0m \u001b[0;36m1\u001b[0m \u001b[0;34m-\u001b[0m \u001b[0mbeta1\u001b[0m\u001b[0;34m)\u001b[0m\u001b[0;34m\u001b[0m\u001b[0;34m\u001b[0m\u001b[0m\n\u001b[0;32m--> 413\u001b[0;31m         \u001b[0mexp_avg_sq\u001b[0m\u001b[0;34m.\u001b[0m\u001b[0mmul_\u001b[0m\u001b[0;34m(\u001b[0m\u001b[0mbeta2\u001b[0m\u001b[0;34m)\u001b[0m\u001b[0;34m.\u001b[0m\u001b[0maddcmul_\u001b[0m\u001b[0;34m(\u001b[0m\u001b[0mgrad\u001b[0m\u001b[0;34m,\u001b[0m \u001b[0mgrad\u001b[0m\u001b[0;34m,\u001b[0m \u001b[0mvalue\u001b[0m\u001b[0;34m=\u001b[0m\u001b[0;36m1\u001b[0m \u001b[0;34m-\u001b[0m \u001b[0mbeta2\u001b[0m\u001b[0;34m)\u001b[0m\u001b[0;34m\u001b[0m\u001b[0;34m\u001b[0m\u001b[0m\n\u001b[0m\u001b[1;32m    414\u001b[0m \u001b[0;34m\u001b[0m\u001b[0m\n\u001b[1;32m    415\u001b[0m         \u001b[0;32mif\u001b[0m \u001b[0mcapturable\u001b[0m \u001b[0;32mor\u001b[0m \u001b[0mdifferentiable\u001b[0m\u001b[0;34m:\u001b[0m\u001b[0;34m\u001b[0m\u001b[0;34m\u001b[0m\u001b[0m\n",
            "\u001b[0;31mKeyboardInterrupt\u001b[0m: "
          ]
        }
      ]
    },
    {
      "cell_type": "markdown",
      "source": [
        "# Inferência *QABERT*"
      ],
      "metadata": {
        "id": "LnmY07p-Wm5X"
      }
    },
    {
      "cell_type": "code",
      "source": [
        "from transformers import DistilBertForQuestionAnswering, DistilBertTokenizer\n",
        "\n",
        "# Carregue o modelo treinado.\n",
        "model = DistilBertForQuestionAnswering.from_pretrained(\"valorant_qa_model\")\n",
        "tokenizer = DistilBertTokenizer.from_pretrained(\"distilbert-base-uncased-distilled-squad\")\n",
        "\n",
        "# Função para fazer uma pergunta ao modelo.\n",
        "def ask_question(context, question):\n",
        "    inputs = tokenizer(question, context, return_tensors=\"pt\", padding=True, truncation=True)\n",
        "    outputs = model(**inputs)\n",
        "    start_scores = outputs.start_logits\n",
        "    end_scores = outputs.end_logits\n",
        "\n",
        "    # Encontre os índices de início e fim com base nos scores.\n",
        "    start_index = torch.argmax(start_scores, dim=1)\n",
        "    end_index = torch.argmax(end_scores, dim=1) + 1\n",
        "\n",
        "    # Decodifique a resposta a partir dos índices de início e fim.\n",
        "    answer = tokenizer.decode(inputs.input_ids[0][start_index[0]:end_index[0]])\n",
        "\n",
        "    return answer\n",
        "\n",
        "# Exemplo de pergunta:\n",
        "question = \" Sage?\"\n",
        "context = \"A habilidade de cura da Sage é uma importante habilidade para utiliza-la de forma eficaz aproveite quando os aliados estiverem com pouca vida\"\n",
        "\n",
        "# Obtenha a resposta para a pergunta.\n",
        "answer = ask_question(context, question)\n",
        "print(\"Resposta:\", answer)\n"
      ],
      "metadata": {
        "colab": {
          "base_uri": "https://localhost:8080/"
        },
        "id": "wUktNTZhDRb0",
        "outputId": "998a1067-ca47-41bf-88cc-06377111d0d6"
      },
      "execution_count": null,
      "outputs": [
        {
          "output_type": "stream",
          "name": "stdout",
          "text": [
            "Resposta: \n"
          ]
        }
      ]
    },
    {
      "cell_type": "markdown",
      "source": [
        "# ***PUSH NO HUGGING FACE***"
      ],
      "metadata": {
        "id": "Op2kqrIRo8F9"
      }
    },
    {
      "cell_type": "code",
      "source": [
        "!pip install huggingface_hub"
      ],
      "metadata": {
        "colab": {
          "base_uri": "https://localhost:8080/"
        },
        "id": "LgKafmEtMn5H",
        "outputId": "48affc7a-2acb-4d48-f389-120b66c8ebee"
      },
      "execution_count": null,
      "outputs": [
        {
          "output_type": "stream",
          "name": "stdout",
          "text": [
            "Collecting huggingface_hub\n",
            "  Downloading huggingface_hub-0.18.0-py3-none-any.whl (301 kB)\n",
            "\u001b[?25l     \u001b[90m━━━━━━━━━━━━━━━━━━━━━━━━━━━━━━━━━━━━━━━━\u001b[0m \u001b[32m0.0/302.0 kB\u001b[0m \u001b[31m?\u001b[0m eta \u001b[36m-:--:--\u001b[0m\r\u001b[2K     \u001b[91m━━━━━━━━━━━━━━━━━━━━━━━━━━━\u001b[0m\u001b[90m╺\u001b[0m\u001b[90m━━━━━━━━━━━━\u001b[0m \u001b[32m204.8/302.0 kB\u001b[0m \u001b[31m5.9 MB/s\u001b[0m eta \u001b[36m0:00:01\u001b[0m\r\u001b[2K     \u001b[90m━━━━━━━━━━━━━━━━━━━━━━━━━━━━━━━━━━━━━━━━\u001b[0m \u001b[32m302.0/302.0 kB\u001b[0m \u001b[31m6.0 MB/s\u001b[0m eta \u001b[36m0:00:00\u001b[0m\n",
            "\u001b[?25hRequirement already satisfied: filelock in /usr/local/lib/python3.10/dist-packages (from huggingface_hub) (3.12.4)\n",
            "Requirement already satisfied: fsspec>=2023.5.0 in /usr/local/lib/python3.10/dist-packages (from huggingface_hub) (2023.6.0)\n",
            "Requirement already satisfied: requests in /usr/local/lib/python3.10/dist-packages (from huggingface_hub) (2.31.0)\n",
            "Requirement already satisfied: tqdm>=4.42.1 in /usr/local/lib/python3.10/dist-packages (from huggingface_hub) (4.66.1)\n",
            "Requirement already satisfied: pyyaml>=5.1 in /usr/local/lib/python3.10/dist-packages (from huggingface_hub) (6.0.1)\n",
            "Requirement already satisfied: typing-extensions>=3.7.4.3 in /usr/local/lib/python3.10/dist-packages (from huggingface_hub) (4.5.0)\n",
            "Requirement already satisfied: packaging>=20.9 in /usr/local/lib/python3.10/dist-packages (from huggingface_hub) (23.2)\n",
            "Requirement already satisfied: charset-normalizer<4,>=2 in /usr/local/lib/python3.10/dist-packages (from requests->huggingface_hub) (3.3.0)\n",
            "Requirement already satisfied: idna<4,>=2.5 in /usr/local/lib/python3.10/dist-packages (from requests->huggingface_hub) (3.4)\n",
            "Requirement already satisfied: urllib3<3,>=1.21.1 in /usr/local/lib/python3.10/dist-packages (from requests->huggingface_hub) (2.0.7)\n",
            "Requirement already satisfied: certifi>=2017.4.17 in /usr/local/lib/python3.10/dist-packages (from requests->huggingface_hub) (2023.7.22)\n",
            "Installing collected packages: huggingface_hub\n",
            "Successfully installed huggingface_hub-0.18.0\n"
          ]
        }
      ]
    },
    {
      "cell_type": "code",
      "source": [
        "from huggingface_hub import notebook_login\n",
        "\n",
        "notebook_login()\n"
      ],
      "metadata": {
        "colab": {
          "base_uri": "https://localhost:8080/",
          "height": 145,
          "referenced_widgets": [
            "646c680c5461427ea997595b8d91bf61",
            "443507750635483795bdf1f76b7955af",
            "2a1ab89d96f84a0ca20eb19c6df36622",
            "d462e013e01746808227a238382a54e2",
            "93fde6a6ee0d4784a911776249cd5d66",
            "55924c56cb13407397ad4d76f2dffe1a",
            "34a182b3bfe040e6a186c52d39a04091",
            "c6824b735f2c4262b2ca215da63557d5",
            "d933f831778d4bec81c6d4b3f5d29518",
            "925286f8f2824e32a823a2d61b109894",
            "c89ab7c1e05d4a77bcbbdc708a7a7c71",
            "90423db6198544a08333979baeef8101",
            "b2b0acbb0c5b4401aeb5c6de9043f330",
            "9ed7e0f2b44d4d26a336ae3adc8ab3a0",
            "67cebe5b57944cc0b67d2534d29af752",
            "7c4009843f374b91be1c00af2227cb89",
            "b2b6ec3616484a4c9e82c4d1cea76d87",
            "f69ba28d793b4da69360e0789fc2cf1b",
            "f18e8fbe1df4475eb5ddd9aef0765ffe",
            "8a93a6c2a9e543638d9a10f869f633a6",
            "ed0d568e56f04a8f9b78142ae0fe8de7",
            "f2a8894ff6ef4b4da40c307ef59dea9f",
            "f091b8ba58d947e4b7dc1df3dc76ff0e",
            "c11bba6505a34bf882c5191152890286",
            "e773b80b394d4a4081fcd2dc60a14f2d",
            "04131dfbed6048cfaae4416fdcaecce3",
            "d9dc8b4e0120481ab93584d846237ae5",
            "abc6ee9726a84879a95a1d2ddc3c80b6",
            "7058860b4b2c446984c1467faca04a44",
            "46b743ddefcc4dfa81719c839695270b",
            "fa2afca0c76c4ca79f78c99f45e24c71",
            "d183373f3f2f4a5099ceb9946c42949d"
          ]
        },
        "id": "ptNM2s7npCud",
        "outputId": "97e2d29a-c9ac-4676-8f27-c9bc16cdea1a"
      },
      "execution_count": 22,
      "outputs": [
        {
          "output_type": "display_data",
          "data": {
            "text/plain": [
              "VBox(children=(HTML(value='<center> <img\\nsrc=https://huggingface.co/front/assets/huggingface_logo-noborder.sv…"
            ],
            "application/vnd.jupyter.widget-view+json": {
              "version_major": 2,
              "version_minor": 0,
              "model_id": "646c680c5461427ea997595b8d91bf61"
            }
          },
          "metadata": {}
        }
      ]
    },
    {
      "cell_type": "code",
      "source": [
        "from huggingface_hub import trainer\n",
        "trainer.push_to_hub(repo_name=\"lazaroq11/billqa2\")"
      ],
      "metadata": {
        "colab": {
          "base_uri": "https://localhost:8080/",
          "height": 331
        },
        "id": "3TAaruee6SBR",
        "outputId": "dbceb289-538b-4683-8969-468933dc14e6"
      },
      "execution_count": 36,
      "outputs": [
        {
          "output_type": "error",
          "ename": "ImportError",
          "evalue": "ignored",
          "traceback": [
            "\u001b[0;31m---------------------------------------------------------------------------\u001b[0m",
            "\u001b[0;31mImportError\u001b[0m                               Traceback (most recent call last)",
            "\u001b[0;32m<ipython-input-36-39cc2c55985a>\u001b[0m in \u001b[0;36m<cell line: 1>\u001b[0;34m()\u001b[0m\n\u001b[0;32m----> 1\u001b[0;31m \u001b[0;32mfrom\u001b[0m \u001b[0mhuggingface_hub\u001b[0m \u001b[0;32mimport\u001b[0m \u001b[0mtrainer\u001b[0m\u001b[0;34m\u001b[0m\u001b[0;34m\u001b[0m\u001b[0m\n\u001b[0m\u001b[1;32m      2\u001b[0m \u001b[0mtrainer\u001b[0m\u001b[0;34m.\u001b[0m\u001b[0mpush_to_hub\u001b[0m\u001b[0;34m(\u001b[0m\u001b[0mrepo_name\u001b[0m\u001b[0;34m=\u001b[0m\u001b[0;34m\"lazaroq11/billqa2\"\u001b[0m\u001b[0;34m)\u001b[0m\u001b[0;34m\u001b[0m\u001b[0;34m\u001b[0m\u001b[0m\n",
            "\u001b[0;31mImportError\u001b[0m: cannot import name 'trainer' from 'huggingface_hub' (/usr/local/lib/python3.10/dist-packages/huggingface_hub/__init__.py)",
            "",
            "\u001b[0;31m---------------------------------------------------------------------------\u001b[0;32m\nNOTE: If your import is failing due to a missing package, you can\nmanually install dependencies using either !pip or !apt.\n\nTo view examples of installing some common dependencies, click the\n\"Open Examples\" button below.\n\u001b[0;31m---------------------------------------------------------------------------\u001b[0m\n"
          ],
          "errorDetails": {
            "actions": [
              {
                "action": "open_url",
                "actionText": "Open Examples",
                "url": "/notebooks/snippets/importing_libraries.ipynb"
              }
            ]
          }
        }
      ]
    },
    {
      "cell_type": "code",
      "source": [
        "!transformers-cli repo create seu-repo\n",
        "!transformers-cli repo upload seu-modelo seu-repo"
      ],
      "metadata": {
        "id": "5MwFMdhDpSCz"
      },
      "execution_count": null,
      "outputs": []
    }
  ]
}